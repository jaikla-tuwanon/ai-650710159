{
  "nbformat": 4,
  "nbformat_minor": 0,
  "metadata": {
    "colab": {
      "provenance": []
    },
    "kernelspec": {
      "name": "python3",
      "display_name": "Python 3"
    },
    "language_info": {
      "name": "python"
    }
  },
  "cells": [
    {
      "cell_type": "markdown",
      "source": [
        "หอพักสนามจันทร์แมนชั่น นายธุวานนท์ ใจกล้า 650710159\n"
      ],
      "metadata": {
        "id": "rcTY_kyWeaXr"
      }
    },
    {
      "cell_type": "code",
      "execution_count": null,
      "metadata": {
        "id": "cRAD5_uJ80wE"
      },
      "outputs": [],
      "source": [
        "# ขั้นตอนที่ 1 ติดตั้งไลบรารีที่จำเป็น"
      ]
    },
    {
      "cell_type": "code",
      "source": [
        "!pip install osmnx==1.9.1 folium -q"
      ],
      "metadata": {
        "id": "pV_zRWDG-K4c",
        "outputId": "94a33261-70dd-48a2-833b-70468bf18768",
        "colab": {
          "base_uri": "https://localhost:8080/"
        }
      },
      "execution_count": 1,
      "outputs": [
        {
          "output_type": "stream",
          "name": "stdout",
          "text": [
            "\u001b[?25l   \u001b[90m━━━━━━━━━━━━━━━━━━━━━━━━━━━━━━━━━━━━━━━━\u001b[0m \u001b[32m0.0/104.3 kB\u001b[0m \u001b[31m?\u001b[0m eta \u001b[36m-:--:--\u001b[0m\r\u001b[2K   \u001b[91m━━━━━━━━━━━━━━━━━━━━━━━━━━━━━━━━━━━━━━━\u001b[0m\u001b[90m╺\u001b[0m \u001b[32m102.4/104.3 kB\u001b[0m \u001b[31m4.6 MB/s\u001b[0m eta \u001b[36m0:00:01\u001b[0m\r\u001b[2K   \u001b[90m━━━━━━━━━━━━━━━━━━━━━━━━━━━━━━━━━━━━━━━━\u001b[0m \u001b[32m104.3/104.3 kB\u001b[0m \u001b[31m2.6 MB/s\u001b[0m eta \u001b[36m0:00:00\u001b[0m\n",
            "\u001b[?25h"
          ]
        }
      ]
    },
    {
      "cell_type": "code",
      "source": [
        "# ขั้นตอนที่ 2 Import และตั้งค่าพื้นฐาน"
      ],
      "metadata": {
        "id": "pBsktU5L-RkM"
      },
      "execution_count": null,
      "outputs": []
    },
    {
      "cell_type": "code",
      "source": [
        "import osmnx as ox\n",
        "import networkx as nx\n",
        "import folium\n",
        "import pandas as pd\n",
        "import matplotlib.pyplot as plt\n",
        "from IPython.display import display"
      ],
      "metadata": {
        "id": "Lhs0t6rT9eO5"
      },
      "execution_count": 2,
      "outputs": []
    },
    {
      "cell_type": "code",
      "source": [
        "ox.settings.use_cache = True\n",
        "ox.settings.log_console = False"
      ],
      "metadata": {
        "id": "w_Z-QxoB85FH"
      },
      "execution_count": 3,
      "outputs": []
    },
    {
      "cell_type": "code",
      "source": [
        "print(f\"OSMnx version: {ox.__version__}\")\n",
        "print(f\"NetworkX version: {nx.__version__}\")"
      ],
      "metadata": {
        "id": "Pg_yAhiB9ax1",
        "colab": {
          "base_uri": "https://localhost:8080/"
        },
        "outputId": "693a3492-c877-41aa-9194-2957eb14fbf3"
      },
      "execution_count": 4,
      "outputs": [
        {
          "output_type": "stream",
          "name": "stdout",
          "text": [
            "OSMnx version: 1.9.1\n",
            "NetworkX version: 3.5\n"
          ]
        }
      ]
    },
    {
      "cell_type": "code",
      "source": [
        "# ขั้นตอนที่ 3 ดึงข้อมูลแผนที่กรุงเทพฯ"
      ],
      "metadata": {
        "id": "guO8Oy2Q-Wp0"
      },
      "execution_count": 5,
      "outputs": []
    },
    {
      "cell_type": "code",
      "source": [
        "latitude = 13.8199\n",
        "longitude = 100.0444\n",
        "\n",
        "center_point = (latitude, longitude)\n",
        "distance = 1500  # รัศมี 1.5 กิโลเมตร"
      ],
      "metadata": {
        "id": "j4LGzIPC9iar"
      },
      "execution_count": 38,
      "outputs": []
    },
    {
      "cell_type": "code",
      "source": [
        "try:\n",
        "    # ดึงข้อมูลเครือข่ายถนนสำหรับการขับรถ\n",
        "    G = ox.graph_from_point(center_point, dist=distance, network_type='drive')\n",
        "\n",
        "    print(f\"- Nodes (intersections): {G.number_of_nodes():,}\")\n",
        "    print(f\"- Edges (street segments): {G.number_of_edges():,}\")\n",
        "\n",
        "    fig, ax = ox.plot_graph(G, node_size=1.5, edge_linewidth=0.5, show=False, close=False)\n",
        "    plt.title(f\"Street Network around Dorm (radius: {distance}m)\")\n",
        "    plt.show()\n",
        "\n",
        "except Exception as e:\n",
        "    print(f\"Error downloading map data: {e}\")"
      ],
      "metadata": {
        "id": "CQePzZr49wRo",
        "colab": {
          "base_uri": "https://localhost:8080/",
          "height": 710
        },
        "outputId": "a9a9ecac-0419-4b00-fc24-0b771b834e13"
      },
      "execution_count": 41,
      "outputs": [
        {
          "output_type": "stream",
          "name": "stdout",
          "text": [
            "- Nodes (intersections): 1,470\n",
            "- Edges (street segments): 3,242\n"
          ]
        },
        {
          "output_type": "display_data",
          "data": {
            "text/plain": [
              "<Figure size 800x800 with 1 Axes>"
            ],
            "image/png": "[encoded data removed]"
          },
          "metadata": {}
        }
      ]
    },
    {
      "cell_type": "code",
      "source": [
        "# ขั้นตอนที่ 4 สำรวจข้อมูลเบื้องต้น"
      ],
      "metadata": {
        "id": "4R2CMSbb-E_n"
      },
      "execution_count": null,
      "outputs": []
    },
    {
      "cell_type": "code",
      "source": [
        "edges = ox.graph_to_gdfs(G, nodes=False)\n",
        "\n",
        "print(\"🔍 Sample street data (first 5 streets):\")\n",
        "print(edges[['highway', 'length', 'name']].head())\n",
        "\n",
        "print(\"\\n📊 Types of roads in our graph:\")\n",
        "highway_counts = edges['highway'].value_counts()\n",
        "print(highway_counts.head(10))"
      ],
      "metadata": {
        "id": "aKzKIMUY-a79",
        "colab": {
          "base_uri": "https://localhost:8080/"
        },
        "outputId": "6331752e-fa02-4d21-fa38-76e9c92bd7a1"
      },
      "execution_count": 42,
      "outputs": [
        {
          "output_type": "stream",
          "name": "stdout",
          "text": [
            "🔍 Sample street data (first 5 streets):\n",
            "                               highway   length      name\n",
            "u          v          key                                \n",
            "1120657617 8181549485 0          trunk  169.905  ถนนทรงพล\n",
            "1120657624 1215650519 0    residential   35.150       NaN\n",
            "           1120780943 0          trunk   68.545  ถนนทรงพล\n",
            "1120780943 1120781102 0          trunk   21.619  ถนนทรงพล\n",
            "           1120781092 0     trunk_link   29.368       NaN\n",
            "\n",
            "📊 Types of roads in our graph:\n",
            "highway\n",
            "residential       2519\n",
            "unclassified       394\n",
            "tertiary           200\n",
            "secondary           69\n",
            "trunk               42\n",
            "trunk_link          14\n",
            "secondary_link       4\n",
            "Name: count, dtype: int64\n"
          ]
        }
      ]
    },
    {
      "cell_type": "code",
      "source": [
        "plt.figure(figsize=(10, 6))\n",
        "highway_counts.head(10).plot(kind='bar')\n",
        "plt.title(\"Distribution of Road Types in Nakornpatom\")\n",
        "plt.xlabel(\"Road Type\")\n",
        "plt.ylabel(\"Count\")\n",
        "plt.xticks(rotation=45)\n",
        "plt.tight_layout()\n",
        "plt.show()"
      ],
      "metadata": {
        "id": "Y4lesAhcHNy9",
        "colab": {
          "base_uri": "https://localhost:8080/",
          "height": 607
        },
        "outputId": "a2be99b3-21c8-4a33-b623-0ff6e0db5db4"
      },
      "execution_count": 44,
      "outputs": [
        {
          "output_type": "display_data",
          "data": {
            "text/plain": [
              "<Figure size 1000x600 with 1 Axes>"
            ],
            "image/png": "[encoded data removed]"
          },
          "metadata": {}
        }
      ]
    },
    {
      "cell_type": "code",
      "source": [
        "# ขั้นตอนที่ 5 กำหนดจุดเริ่มต้นและปลายทาง"
      ],
      "metadata": {
        "id": "aaT8Y8kTJM1U"
      },
      "execution_count": null,
      "outputs": []
    },
    {
      "cell_type": "code",
      "source": [
        "start_lat, start_lon = 13.8227, 100.0426\n",
        "start_name = \"สนามจันทร์แมนชั่น, Nakhon Pathom, Thailand\""
      ],
      "metadata": {
        "id": "zJoGD-zzJWOW"
      },
      "execution_count": 46,
      "outputs": []
    },
    {
      "cell_type": "code",
      "source": [
        "end_lat, end_lon = 13.82039, 100.04100\n",
        "end_name = \"Silpakorn University Sanamchandra Palace Campus, Nakhon Pathom, Thailand\""
      ],
      "metadata": {
        "id": "b3OIAh1mJeW3"
      },
      "execution_count": 55,
      "outputs": []
    },
    {
      "cell_type": "code",
      "source": [
        "#  หาโหนดที่ใกล้ที่สุดบนกราฟ\n",
        "orig_node = ox.nearest_nodes(G, start_lon, start_lat)\n",
        "dest_node = ox.nearest_nodes(G, end_lon, end_lat)\n",
        "\n",
        "print(f\"🚶 Starting point: {start_name}\")\n",
        "print(f\"   Node ID: {orig_node}\")\n",
        "print(f\"🎯 Destination: {end_name}\")\n",
        "print(f\"   Node ID: {dest_node}\")"
      ],
      "metadata": {
        "id": "pp0C0AdWJfik",
        "colab": {
          "base_uri": "https://localhost:8080/"
        },
        "outputId": "a2c2381f-ffc5-40ec-acc4-591987964aa6"
      },
      "execution_count": 62,
      "outputs": [
        {
          "output_type": "stream",
          "name": "stdout",
          "text": [
            "🚶 Starting point: สนามจันทร์แมนชั่น, Nakhon Pathom, Thailand\n",
            "   Node ID: 5828755159\n",
            "🎯 Destination: Silpakorn University Sanamchandra Palace Campus, Nakhon Pathom, Thailand\n",
            "   Node ID: 1125952749\n"
          ]
        }
      ]
    },
    {
      "cell_type": "code",
      "source": [
        "if nx.has_path(G, orig_node, dest_node):\n",
        "    print(\"Path exists between origin and destination!\")\n",
        "else:\n",
        "    print(\"No path found! Try different locations.\")"
      ],
      "metadata": {
        "id": "xxEHcr3NJj55",
        "colab": {
          "base_uri": "https://localhost:8080/"
        },
        "outputId": "038c3fec-1885-4262-d8db-162c6932f129"
      },
      "execution_count": 63,
      "outputs": [
        {
          "output_type": "stream",
          "name": "stdout",
          "text": [
            "Path exists between origin and destination!\n"
          ]
        }
      ]
    },
    {
      "cell_type": "code",
      "source": [
        "# ขั้นตอนที่ 6 หาเส้นทางที่สั้นที่สุดด้วย A*"
      ],
      "metadata": {
        "id": "Bf2JhHgzJ2Uy"
      },
      "execution_count": null,
      "outputs": []
    },
    {
      "cell_type": "code",
      "source": [
        "try:\n",
        "    # ใช้ A* algorithm หาเส้นทางที่สั้นที่สุด (ตามระยะทาง)\n",
        "    shortest_route = nx.astar_path(G, orig_node, dest_node, weight='length')\n",
        "\n",
        "    # คำนวณระยะทางรวม\n",
        "    route_length = nx.path_weight(G, shortest_route, weight='length')\n",
        "\n",
        "    print(f\"✅ Shortest route found!\")\n",
        "    print(f\"📏 Total distance: {route_length:,.0f} meters ({route_length/1000:.2f} km)\")\n",
        "    print(f\"🔢 Number of intersections: {len(shortest_route)}\")\n",
        "\n",
        "except nx.NetworkXNoPath:\n",
        "    print(\"❌ No path found between these locations!\")\n",
        "except Exception as e:\n",
        "    print(f\"❌ Error: {e}\")"
      ],
      "metadata": {
        "id": "Xni9sMz5KBWr",
        "colab": {
          "base_uri": "https://localhost:8080/"
        },
        "outputId": "e4c8d4c3-b597-402c-e751-af17bfc9df0e"
      },
      "execution_count": 64,
      "outputs": [
        {
          "output_type": "stream",
          "name": "stdout",
          "text": [
            "✅ Shortest route found!\n",
            "📏 Total distance: 667 meters (0.67 km)\n",
            "🔢 Number of intersections: 8\n"
          ]
        }
      ]
    },
    {
      "cell_type": "code",
      "source": [
        "# ขั้นตอนที่ 7 แสดงผลเส้นทางบนแผนที่ Interactive"
      ],
      "metadata": {
        "id": "Ymm1eZwzKNdj"
      },
      "execution_count": null,
      "outputs": []
    },
    {
      "cell_type": "code",
      "source": [
        "route_map = ox.plot_route_folium(G, shortest_route,\n",
        "                                  route_color='red',\n",
        "                                  route_width=5,\n",
        "                                  route_opacity=0.8)"
      ],
      "metadata": {
        "id": "sOCTJOw4cKx1",
        "colab": {
          "base_uri": "https://localhost:8080/"
        },
        "outputId": "ea70463e-5c80-4fc1-edba-9c4ed3e81e15"
      },
      "execution_count": 65,
      "outputs": [
        {
          "output_type": "stream",
          "name": "stderr",
          "text": [
            "/tmp/ipython-input-65-562654551.py:1: FutureWarning: The `folium` module has been deprecated and will be removed in the v2.0.0 release. You can generate and explore interactive web maps of graph nodes, edges, and/or routes automatically using GeoPandas.GeoDataFrame.explore instead, for example like: `ox.graph_to_gdfs(G, nodes=False).explore()`. See the OSMnx examples gallery for complete details and demonstrations.\n",
            "  route_map = ox.plot_route_folium(G, shortest_route,\n"
          ]
        }
      ]
    },
    {
      "cell_type": "code",
      "source": [
        "start_marker = folium.Marker(\n",
        "    location=[start_lat, start_lon],\n",
        "    popup=f\"<b>Start:</b> {start_name}\",\n",
        "    icon=folium.Icon(color='green', icon='play')\n",
        ")\n",
        "start_marker.add_to(route_map)\n",
        "\n",
        "end_marker = folium.Marker(\n",
        "    location=[end_lat, end_lon],\n",
        "    popup=f\"<b>End:</b> {end_name}\",\n",
        "    icon=folium.Icon(color='red', icon='stop')\n",
        ")\n",
        "end_marker.add_to(route_map)"
      ],
      "metadata": {
        "id": "dS26FJRxK4Fx",
        "colab": {
          "base_uri": "https://localhost:8080/"
        },
        "outputId": "b5add1e2-3bb4-4529-c05e-64a8a60c2e5f"
      },
      "execution_count": 66,
      "outputs": [
        {
          "output_type": "execute_result",
          "data": {
            "text/plain": [
              "<folium.map.Marker at 0x7cb079f03b50>"
            ]
          },
          "metadata": {},
          "execution_count": 66
        }
      ]
    },
    {
      "cell_type": "code",
      "source": [
        "print(\"🗺️ Interactive map (zoom in/out to explore):\")\n",
        "display(route_map)"
      ],
      "metadata": {
        "id": "EqrRXvELLG_q",
        "colab": {
          "base_uri": "https://localhost:8080/",
          "height": 985
        },
        "outputId": "0e7e5c8d-9892-4a95-9239-7f0f32d525ee"
      },
      "execution_count": 67,
      "outputs": [
        {
          "output_type": "stream",
          "name": "stdout",
          "text": [
            "🗺️ Interactive map (zoom in/out to explore):\n"
          ]
        },
        {
          "output_type": "display_data",
          "data": {
            "text/plain": [
              "<folium.folium.Map at 0x7cb07d8f2f50>"
            ],
            "text/html": [
              "<div style=\"width:100%;\"><div style=\"position:relative;width:100%;height:0;padding-bottom:60%;\"><span style=\"color:#565656\">Make this Notebook Trusted to load map: File -> Trust Notebook</span><iframe srcdoc=\"&lt;!DOCTYPE html&gt;\n",
              "&lt;html&gt;\n",
              "&lt;head&gt;\n",
              "    \n",
              "    &lt;meta http-equiv=&quot;content-type&quot; content=&quot;text/html; charset=UTF-8&quot; /&gt;\n",
              "    &lt;script src=&quot;https://cdn.jsdelivr.net/npm/leaflet@1.9.3/dist/leaflet.js&quot;&gt;&lt;/script&gt;\n",
              "    &lt;script src=&quot;https://code.jquery.com/jquery-3.7.1.min.js&quot;&gt;&lt;/script&gt;\n",
              "    &lt;script src=&quot;https://cdn.jsdelivr.net/npm/bootstrap@5.2.2/dist/js/bootstrap.bundle.min.js&quot;&gt;&lt;/script&gt;\n",
              "    &lt;script src=&quot;https://cdnjs.cloudflare.com/ajax/libs/Leaflet.awesome-markers/2.0.2/leaflet.awesome-markers.js&quot;&gt;&lt;/script&gt;\n",
              "    &lt;link rel=&quot;stylesheet&quot; href=&quot;https://cdn.jsdelivr.net/npm/leaflet@1.9.3/dist/leaflet.css&quot;/&gt;\n",
              "    &lt;link rel=&quot;stylesheet&quot; href=&quot;https://cdn.jsdelivr.net/npm/bootstrap@5.2.2/dist/css/bootstrap.min.css&quot;/&gt;\n",
              "    &lt;link rel=&quot;stylesheet&quot; href=&quot;https://netdna.bootstrapcdn.com/bootstrap/3.0.0/css/bootstrap-glyphicons.css&quot;/&gt;\n",
              "    &lt;link rel=&quot;stylesheet&quot; href=&quot;https://cdn.jsdelivr.net/npm/@fortawesome/fontawesome-free@6.2.0/css/all.min.css&quot;/&gt;\n",
              "    &lt;link rel=&quot;stylesheet&quot; href=&quot;https://cdnjs.cloudflare.com/ajax/libs/Leaflet.awesome-markers/2.0.2/leaflet.awesome-markers.css&quot;/&gt;\n",
              "    &lt;link rel=&quot;stylesheet&quot; href=&quot;https://cdn.jsdelivr.net/gh/python-visualization/folium/folium/templates/leaflet.awesome.rotate.min.css&quot;/&gt;\n",
              "    \n",
              "            &lt;meta name=&quot;viewport&quot; content=&quot;width=device-width,\n",
              "                initial-scale=1.0, maximum-scale=1.0, user-scalable=no&quot; /&gt;\n",
              "            &lt;style&gt;\n",
              "                #map_d66f3a778a1735b817c8820cf0f854c4 {\n",
              "                    position: relative;\n",
              "                    width: 100.0%;\n",
              "                    height: 100.0%;\n",
              "                    left: 0.0%;\n",
              "                    top: 0.0%;\n",
              "                }\n",
              "                .leaflet-container { font-size: 1rem; }\n",
              "            &lt;/style&gt;\n",
              "\n",
              "            &lt;style&gt;html, body {\n",
              "                width: 100%;\n",
              "                height: 100%;\n",
              "                margin: 0;\n",
              "                padding: 0;\n",
              "            }\n",
              "            &lt;/style&gt;\n",
              "\n",
              "            &lt;style&gt;#map {\n",
              "                position:absolute;\n",
              "                top:0;\n",
              "                bottom:0;\n",
              "                right:0;\n",
              "                left:0;\n",
              "                }\n",
              "            &lt;/style&gt;\n",
              "\n",
              "            &lt;script&gt;\n",
              "                L_NO_TOUCH = false;\n",
              "                L_DISABLE_3D = false;\n",
              "            &lt;/script&gt;\n",
              "\n",
              "        \n",
              "&lt;/head&gt;\n",
              "&lt;body&gt;\n",
              "    \n",
              "    \n",
              "            &lt;div class=&quot;folium-map&quot; id=&quot;map_d66f3a778a1735b817c8820cf0f854c4&quot; &gt;&lt;/div&gt;\n",
              "        \n",
              "&lt;/body&gt;\n",
              "&lt;script&gt;\n",
              "    \n",
              "    \n",
              "            var map_d66f3a778a1735b817c8820cf0f854c4 = L.map(\n",
              "                &quot;map_d66f3a778a1735b817c8820cf0f854c4&quot;,\n",
              "                {\n",
              "                    center: [13.823242298818009, 100.04142714565104],\n",
              "                    crs: L.CRS.EPSG3857,\n",
              "                    ...{\n",
              "  &quot;zoom&quot;: 1,\n",
              "  &quot;zoomControl&quot;: true,\n",
              "  &quot;preferCanvas&quot;: false,\n",
              "}\n",
              "\n",
              "                }\n",
              "            );\n",
              "\n",
              "            \n",
              "\n",
              "        \n",
              "    \n",
              "            var tile_layer_b7456f76da05e29f173da0ff6c4fecd6 = L.tileLayer(\n",
              "                &quot;https://{s}.basemaps.cartocdn.com/light_all/{z}/{x}/{y}{r}.png&quot;,\n",
              "                {\n",
              "  &quot;minZoom&quot;: 0,\n",
              "  &quot;maxZoom&quot;: 20,\n",
              "  &quot;maxNativeZoom&quot;: 20,\n",
              "  &quot;noWrap&quot;: false,\n",
              "  &quot;attribution&quot;: &quot;\\u0026copy; \\u003ca href=\\&quot;https://www.openstreetmap.org/copyright\\&quot;\\u003eOpenStreetMap\\u003c/a\\u003e contributors \\u0026copy; \\u003ca href=\\&quot;https://carto.com/attributions\\&quot;\\u003eCARTO\\u003c/a\\u003e&quot;,\n",
              "  &quot;subdomains&quot;: &quot;abcd&quot;,\n",
              "  &quot;detectRetina&quot;: false,\n",
              "  &quot;tms&quot;: false,\n",
              "  &quot;opacity&quot;: 1,\n",
              "}\n",
              "\n",
              "            );\n",
              "        \n",
              "    \n",
              "            tile_layer_b7456f76da05e29f173da0ff6c4fecd6.addTo(map_d66f3a778a1735b817c8820cf0f854c4);\n",
              "        \n",
              "    \n",
              "            var poly_line_6c9abfe894ada37841e8d647720f8448 = L.polyline(\n",
              "                [[13.8225824, 100.0424602], [13.8225938, 100.0425128], [13.8225938, 100.0426383], [13.8226023, 100.0427989], [13.822625, 100.0429361], [13.8226604, 100.0431084]],\n",
              "                {&quot;bubblingMouseEvents&quot;: true, &quot;color&quot;: &quot;#3388ff&quot;, &quot;dashArray&quot;: null, &quot;dashOffset&quot;: null, &quot;fill&quot;: false, &quot;fillColor&quot;: &quot;#3388ff&quot;, &quot;fillOpacity&quot;: 0.2, &quot;fillRule&quot;: &quot;evenodd&quot;, &quot;lineCap&quot;: &quot;round&quot;, &quot;lineJoin&quot;: &quot;round&quot;, &quot;noClip&quot;: false, &quot;opacity&quot;: 1.0, &quot;smoothFactor&quot;: 1.0, &quot;stroke&quot;: true, &quot;weight&quot;: 3}\n",
              "            ).addTo(map_d66f3a778a1735b817c8820cf0f854c4);\n",
              "        \n",
              "    \n",
              "            var poly_line_b050dce5af5f874ed8d67c2b05e9477c = L.polyline(\n",
              "                [[13.8226604, 100.0431084], [13.8227192, 100.0431113], [13.822749, 100.0431172], [13.8227781, 100.043123], [13.8228587, 100.0431227]],\n",
              "                {&quot;bubblingMouseEvents&quot;: true, &quot;color&quot;: &quot;#3388ff&quot;, &quot;dashArray&quot;: null, &quot;dashOffset&quot;: null, &quot;fill&quot;: false, &quot;fillColor&quot;: &quot;#3388ff&quot;, &quot;fillOpacity&quot;: 0.2, &quot;fillRule&quot;: &quot;evenodd&quot;, &quot;lineCap&quot;: &quot;round&quot;, &quot;lineJoin&quot;: &quot;round&quot;, &quot;noClip&quot;: false, &quot;opacity&quot;: 1.0, &quot;smoothFactor&quot;: 1.0, &quot;stroke&quot;: true, &quot;weight&quot;: 3}\n",
              "            ).addTo(map_d66f3a778a1735b817c8820cf0f854c4);\n",
              "        \n",
              "    \n",
              "            var poly_line_46de0331fe2decf80fa9e87a16fdcbf2 = L.polyline(\n",
              "                [[13.8228587, 100.0431227], [13.8235683, 100.0430133]],\n",
              "                {&quot;bubblingMouseEvents&quot;: true, &quot;color&quot;: &quot;#3388ff&quot;, &quot;dashArray&quot;: null, &quot;dashOffset&quot;: null, &quot;fill&quot;: false, &quot;fillColor&quot;: &quot;#3388ff&quot;, &quot;fillOpacity&quot;: 0.2, &quot;fillRule&quot;: &quot;evenodd&quot;, &quot;lineCap&quot;: &quot;round&quot;, &quot;lineJoin&quot;: &quot;round&quot;, &quot;noClip&quot;: false, &quot;opacity&quot;: 1.0, &quot;smoothFactor&quot;: 1.0, &quot;stroke&quot;: true, &quot;weight&quot;: 3}\n",
              "            ).addTo(map_d66f3a778a1735b817c8820cf0f854c4);\n",
              "        \n",
              "    \n",
              "            var poly_line_4561d20279d782521a61925325159a40 = L.polyline(\n",
              "                [[13.8235683, 100.0430133], [13.8235627, 100.0428665], [13.8235363, 100.0422253]],\n",
              "                {&quot;bubblingMouseEvents&quot;: true, &quot;color&quot;: &quot;#3388ff&quot;, &quot;dashArray&quot;: null, &quot;dashOffset&quot;: null, &quot;fill&quot;: false, &quot;fillColor&quot;: &quot;#3388ff&quot;, &quot;fillOpacity&quot;: 0.2, &quot;fillRule&quot;: &quot;evenodd&quot;, &quot;lineCap&quot;: &quot;round&quot;, &quot;lineJoin&quot;: &quot;round&quot;, &quot;noClip&quot;: false, &quot;opacity&quot;: 1.0, &quot;smoothFactor&quot;: 1.0, &quot;stroke&quot;: true, &quot;weight&quot;: 3}\n",
              "            ).addTo(map_d66f3a778a1735b817c8820cf0f854c4);\n",
              "        \n",
              "    \n",
              "            var poly_line_a550b3371f766fa9153d91a04cb3538b = L.polyline(\n",
              "                [[13.8235363, 100.0422253], [13.8235115, 100.0416239], [13.823495, 100.041225], [13.8234783, 100.0403568]],\n",
              "                {&quot;bubblingMouseEvents&quot;: true, &quot;color&quot;: &quot;#3388ff&quot;, &quot;dashArray&quot;: null, &quot;dashOffset&quot;: null, &quot;fill&quot;: false, &quot;fillColor&quot;: &quot;#3388ff&quot;, &quot;fillOpacity&quot;: 0.2, &quot;fillRule&quot;: &quot;evenodd&quot;, &quot;lineCap&quot;: &quot;round&quot;, &quot;lineJoin&quot;: &quot;round&quot;, &quot;noClip&quot;: false, &quot;opacity&quot;: 1.0, &quot;smoothFactor&quot;: 1.0, &quot;stroke&quot;: true, &quot;weight&quot;: 3}\n",
              "            ).addTo(map_d66f3a778a1735b817c8820cf0f854c4);\n",
              "        \n",
              "    \n",
              "            var poly_line_82fbfac3969d0b3ff51bbf885951795b = L.polyline(\n",
              "                [[13.8234783, 100.0403568], [13.8234637, 100.0395941]],\n",
              "                {&quot;bubblingMouseEvents&quot;: true, &quot;color&quot;: &quot;#3388ff&quot;, &quot;dashArray&quot;: null, &quot;dashOffset&quot;: null, &quot;fill&quot;: false, &quot;fillColor&quot;: &quot;#3388ff&quot;, &quot;fillOpacity&quot;: 0.2, &quot;fillRule&quot;: &quot;evenodd&quot;, &quot;lineCap&quot;: &quot;round&quot;, &quot;lineJoin&quot;: &quot;round&quot;, &quot;noClip&quot;: false, &quot;opacity&quot;: 1.0, &quot;smoothFactor&quot;: 1.0, &quot;stroke&quot;: true, &quot;weight&quot;: 3}\n",
              "            ).addTo(map_d66f3a778a1735b817c8820cf0f854c4);\n",
              "        \n",
              "    \n",
              "            var poly_line_ac66a55c03dbaa015a4004ffe6afcd5e = L.polyline(\n",
              "                [[13.8234637, 100.0395941], [13.8233921, 100.0396022], [13.8233546, 100.0396064], [13.8227537, 100.0396744], [13.8224213, 100.0397112], [13.8223574, 100.0396807]],\n",
              "                {&quot;bubblingMouseEvents&quot;: true, &quot;color&quot;: &quot;#3388ff&quot;, &quot;dashArray&quot;: null, &quot;dashOffset&quot;: null, &quot;fill&quot;: false, &quot;fillColor&quot;: &quot;#3388ff&quot;, &quot;fillOpacity&quot;: 0.2, &quot;fillRule&quot;: &quot;evenodd&quot;, &quot;lineCap&quot;: &quot;round&quot;, &quot;lineJoin&quot;: &quot;round&quot;, &quot;noClip&quot;: false, &quot;opacity&quot;: 1.0, &quot;smoothFactor&quot;: 1.0, &quot;stroke&quot;: true, &quot;weight&quot;: 3}\n",
              "            ).addTo(map_d66f3a778a1735b817c8820cf0f854c4);\n",
              "        \n",
              "    \n",
              "            map_d66f3a778a1735b817c8820cf0f854c4.fitBounds(\n",
              "                [[13.8223574, 100.0395941], [13.8235683, 100.043123]],\n",
              "                {}\n",
              "            );\n",
              "        \n",
              "    \n",
              "            var marker_aeaef9cd434a8c5cdc8ea277edbc6965 = L.marker(\n",
              "                [13.8227, 100.0426],\n",
              "                {\n",
              "}\n",
              "            ).addTo(map_d66f3a778a1735b817c8820cf0f854c4);\n",
              "        \n",
              "    \n",
              "            var icon_ba6174f89dac11736ac2c17bec656795 = L.AwesomeMarkers.icon(\n",
              "                {\n",
              "  &quot;markerColor&quot;: &quot;green&quot;,\n",
              "  &quot;iconColor&quot;: &quot;white&quot;,\n",
              "  &quot;icon&quot;: &quot;play&quot;,\n",
              "  &quot;prefix&quot;: &quot;glyphicon&quot;,\n",
              "  &quot;extraClasses&quot;: &quot;fa-rotate-0&quot;,\n",
              "}\n",
              "            );\n",
              "        \n",
              "    \n",
              "        var popup_e9eb694bbc0b8faaf93d41b1a7b56919 = L.popup({\n",
              "  &quot;maxWidth&quot;: &quot;100%&quot;,\n",
              "});\n",
              "\n",
              "        \n",
              "            \n",
              "                var html_5ff1793fc3655b6da60cfe3eba1afc33 = $(`&lt;div id=&quot;html_5ff1793fc3655b6da60cfe3eba1afc33&quot; style=&quot;width: 100.0%; height: 100.0%;&quot;&gt;&lt;b&gt;Start:&lt;/b&gt; สนามจันทร์แมนชั่น, Nakhon Pathom, Thailand&lt;/div&gt;`)[0];\n",
              "                popup_e9eb694bbc0b8faaf93d41b1a7b56919.setContent(html_5ff1793fc3655b6da60cfe3eba1afc33);\n",
              "            \n",
              "        \n",
              "\n",
              "        marker_aeaef9cd434a8c5cdc8ea277edbc6965.bindPopup(popup_e9eb694bbc0b8faaf93d41b1a7b56919)\n",
              "        ;\n",
              "\n",
              "        \n",
              "    \n",
              "    \n",
              "                marker_aeaef9cd434a8c5cdc8ea277edbc6965.setIcon(icon_ba6174f89dac11736ac2c17bec656795);\n",
              "            \n",
              "    \n",
              "            var marker_90aff7cef77c7e54347909c9667b1ba7 = L.marker(\n",
              "                [13.82039, 100.041],\n",
              "                {\n",
              "}\n",
              "            ).addTo(map_d66f3a778a1735b817c8820cf0f854c4);\n",
              "        \n",
              "    \n",
              "            var icon_708fc5b6392864b714fd7ed2a0ec26e0 = L.AwesomeMarkers.icon(\n",
              "                {\n",
              "  &quot;markerColor&quot;: &quot;red&quot;,\n",
              "  &quot;iconColor&quot;: &quot;white&quot;,\n",
              "  &quot;icon&quot;: &quot;stop&quot;,\n",
              "  &quot;prefix&quot;: &quot;glyphicon&quot;,\n",
              "  &quot;extraClasses&quot;: &quot;fa-rotate-0&quot;,\n",
              "}\n",
              "            );\n",
              "        \n",
              "    \n",
              "        var popup_026a7452f4c8b000dd618e43dffa8e54 = L.popup({\n",
              "  &quot;maxWidth&quot;: &quot;100%&quot;,\n",
              "});\n",
              "\n",
              "        \n",
              "            \n",
              "                var html_651a5db90375d017fb0c5ef562b89419 = $(`&lt;div id=&quot;html_651a5db90375d017fb0c5ef562b89419&quot; style=&quot;width: 100.0%; height: 100.0%;&quot;&gt;&lt;b&gt;End:&lt;/b&gt; Silpakorn University Sanamchandra Palace Campus, Nakhon Pathom, Thailand&lt;/div&gt;`)[0];\n",
              "                popup_026a7452f4c8b000dd618e43dffa8e54.setContent(html_651a5db90375d017fb0c5ef562b89419);\n",
              "            \n",
              "        \n",
              "\n",
              "        marker_90aff7cef77c7e54347909c9667b1ba7.bindPopup(popup_026a7452f4c8b000dd618e43dffa8e54)\n",
              "        ;\n",
              "\n",
              "        \n",
              "    \n",
              "    \n",
              "                marker_90aff7cef77c7e54347909c9667b1ba7.setIcon(icon_708fc5b6392864b714fd7ed2a0ec26e0);\n",
              "            \n",
              "&lt;/script&gt;\n",
              "&lt;/html&gt;\" style=\"position:absolute;width:100%;height:100%;left:0;top:0;border:none !important;\" allowfullscreen webkitallowfullscreen mozallowfullscreen></iframe></div></div>"
            ]
          },
          "metadata": {}
        }
      ]
    },
    {
      "cell_type": "code",
      "source": [
        "# ขั้นตอนที่ 8 วิเคราะห์เส้นทาง"
      ],
      "metadata": {
        "id": "588CshQpLJWv"
      },
      "execution_count": null,
      "outputs": []
    },
    {
      "cell_type": "code",
      "source": [
        "route_edges = ox.utils_graph.route_to_gdf(G, shortest_route, weight='length')\n",
        "\n",
        "print(\"📊 Route Analysis:\")\n",
        "print(f\"Total segments: {len(route_edges)}\")\n",
        "print(f\"\\n🛣️ Street names used:\")\n",
        "\n",
        "# รวบรวมชื่อถนนที่ใช้ (ไม่ซ้ำ)\n",
        "street_names = route_edges['name'].dropna().unique()\n",
        "for i, street in enumerate(street_names, 1):\n",
        "    print(f\"   {i}. {street}\")\n",
        "\n",
        "# แสดงประเภทถนนที่ใช้\n",
        "print(f\"\\n🚗 Road types used:\")\n",
        "road_types = route_edges['highway'].value_counts()\n",
        "for road_type, count in road_types.items():\n",
        "    print(f\"   - {road_type}: {count} segments\")"
      ],
      "metadata": {
        "id": "cX_MpxKXLS2A",
        "colab": {
          "base_uri": "https://localhost:8080/"
        },
        "outputId": "586f6f2e-ec8b-4d7b-ca62-6bdc5af42a87"
      },
      "execution_count": 68,
      "outputs": [
        {
          "output_type": "stream",
          "name": "stdout",
          "text": [
            "📊 Route Analysis:\n",
            "Total segments: 7\n",
            "\n",
            "🛣️ Street names used:\n",
            "   1. ถนน เหนือวัง\n",
            "   2. ถนนสนามจันทร์\n",
            "\n",
            "🚗 Road types used:\n",
            "   - unclassified: 4 segments\n",
            "   - residential: 3 segments\n"
          ]
        }
      ]
    },
    {
      "cell_type": "code",
      "source": [
        "# ขั้นตอนที่ 9 ลองเปลี่ยนจุดปลายทาง"
      ],
      "metadata": {
        "id": "qByBHUSaLVLP"
      },
      "execution_count": null,
      "outputs": []
    },
    {
      "cell_type": "code",
      "source": [
        "new_end_lat, new_end_lon = 13.8161, 100.5607\n",
        "new_end_name = \"Central Plaza Ladprao\"\n",
        "\n",
        "print(f\"🎯 New destination: {new_end_name}\")"
      ],
      "metadata": {
        "id": "E3aUEC7pMeLe",
        "colab": {
          "base_uri": "https://localhost:8080/"
        },
        "outputId": "f5054b52-d75f-4f6e-dfa6-81be668c7e4b"
      },
      "execution_count": 69,
      "outputs": [
        {
          "output_type": "stream",
          "name": "stdout",
          "text": [
            "🎯 New destination: Central Plaza Ladprao\n"
          ]
        }
      ]
    },
    {
      "cell_type": "code",
      "source": [
        "new_dest_node = ox.nearest_nodes(G, new_end_lon, new_end_lat)\n",
        "new_route = nx.astar_path(G, orig_node, new_dest_node, weight='length')\n",
        "new_length = nx.path_weight(G, new_route, weight='length')\n",
        "\n",
        "print(f\"📏 Distance to new destination: {new_length:,.0f} meters ({new_length/1000:.2f} km)\")\n",
        "print(f\"📊 Difference: {abs(new_length - route_length):,.0f} meters\")"
      ],
      "metadata": {
        "id": "NXpyCFOzMh59",
        "colab": {
          "base_uri": "https://localhost:8080/"
        },
        "outputId": "75555960-bf72-4089-d99d-2ee01a7017a0"
      },
      "execution_count": 70,
      "outputs": [
        {
          "output_type": "stream",
          "name": "stdout",
          "text": [
            "📏 Distance to new destination: 2,411 meters (2.41 km)\n",
            "📊 Difference: 1,745 meters\n"
          ]
        }
      ]
    },
    {
      "cell_type": "code",
      "source": [
        "comparison_map = ox.plot_route_folium(G, shortest_route,\n",
        "                                      route_color='red',\n",
        "                                      route_width=4,\n",
        "                                      route_opacity=0.7)\n",
        "\n",
        "comparison_map = ox.plot_route_folium(G, new_route,\n",
        "                                      route_map=comparison_map,\n",
        "                                      route_color='blue',\n",
        "                                      route_width=4,\n",
        "                                      route_opacity=0.7)"
      ],
      "metadata": {
        "id": "JAfOF8XwMkEP",
        "colab": {
          "base_uri": "https://localhost:8080/"
        },
        "outputId": "fd59847f-0782-4652-943b-0e9e4a2056e8"
      },
      "execution_count": 71,
      "outputs": [
        {
          "output_type": "stream",
          "name": "stderr",
          "text": [
            "/tmp/ipython-input-71-2900661045.py:1: FutureWarning: The `folium` module has been deprecated and will be removed in the v2.0.0 release. You can generate and explore interactive web maps of graph nodes, edges, and/or routes automatically using GeoPandas.GeoDataFrame.explore instead, for example like: `ox.graph_to_gdfs(G, nodes=False).explore()`. See the OSMnx examples gallery for complete details and demonstrations.\n",
            "  comparison_map = ox.plot_route_folium(G, shortest_route,\n",
            "/tmp/ipython-input-71-2900661045.py:6: FutureWarning: The `folium` module has been deprecated and will be removed in the v2.0.0 release. You can generate and explore interactive web maps of graph nodes, edges, and/or routes automatically using GeoPandas.GeoDataFrame.explore instead, for example like: `ox.graph_to_gdfs(G, nodes=False).explore()`. See the OSMnx examples gallery for complete details and demonstrations.\n",
            "  comparison_map = ox.plot_route_folium(G, new_route,\n"
          ]
        }
      ]
    },
    {
      "cell_type": "code",
      "source": [
        "folium.Marker([start_lat, start_lon],\n",
        "              popup=f\"<b>Start:</b> {start_name}\",\n",
        "              icon=folium.Icon(color='green')).add_to(comparison_map)\n",
        "\n",
        "folium.Marker([end_lat, end_lon],\n",
        "              popup=f\"<b>Destination 1:</b> {end_name}\",\n",
        "              icon=folium.Icon(color='red')).add_to(comparison_map)\n",
        "\n",
        "folium.Marker([new_end_lat, new_end_lon],\n",
        "              popup=f\"<b>Destination 2:</b> {new_end_name}\",\n",
        "              icon=folium.Icon(color='blue')).add_to(comparison_map)\n",
        "\n",
        "print(\"\\n🗺️ Comparison map (Red = Or Tor Kor, Blue = Central Ladprao):\")\n",
        "display(comparison_map)"
      ],
      "metadata": {
        "id": "PjQTmuUzMszH",
        "colab": {
          "base_uri": "https://localhost:8080/",
          "height": 995
        },
        "outputId": "e0c506d0-471b-4ff3-f22a-e1cc51160f0d"
      },
      "execution_count": 72,
      "outputs": [
        {
          "output_type": "stream",
          "name": "stdout",
          "text": [
            "\n",
            "🗺️ Comparison map (Red = Or Tor Kor, Blue = Central Ladprao):\n"
          ]
        },
        {
          "output_type": "display_data",
          "data": {
            "text/plain": [
              "<folium.folium.Map at 0x7cb079f01d50>"
            ],
            "text/html": [
              "<div style=\"width:100%;\"><div style=\"position:relative;width:100%;height:0;padding-bottom:60%;\"><span style=\"color:#565656\">Make this Notebook Trusted to load map: File -> Trust Notebook</span><iframe srcdoc=\"&lt;!DOCTYPE html&gt;\n",
              "&lt;html&gt;\n",
              "&lt;head&gt;\n",
              "    \n",
              "    &lt;meta http-equiv=&quot;content-type&quot; content=&quot;text/html; charset=UTF-8&quot; /&gt;\n",
              "    &lt;script src=&quot;https://cdn.jsdelivr.net/npm/leaflet@1.9.3/dist/leaflet.js&quot;&gt;&lt;/script&gt;\n",
              "    &lt;script src=&quot;https://code.jquery.com/jquery-3.7.1.min.js&quot;&gt;&lt;/script&gt;\n",
              "    &lt;script src=&quot;https://cdn.jsdelivr.net/npm/bootstrap@5.2.2/dist/js/bootstrap.bundle.min.js&quot;&gt;&lt;/script&gt;\n",
              "    &lt;script src=&quot;https://cdnjs.cloudflare.com/ajax/libs/Leaflet.awesome-markers/2.0.2/leaflet.awesome-markers.js&quot;&gt;&lt;/script&gt;\n",
              "    &lt;link rel=&quot;stylesheet&quot; href=&quot;https://cdn.jsdelivr.net/npm/leaflet@1.9.3/dist/leaflet.css&quot;/&gt;\n",
              "    &lt;link rel=&quot;stylesheet&quot; href=&quot;https://cdn.jsdelivr.net/npm/bootstrap@5.2.2/dist/css/bootstrap.min.css&quot;/&gt;\n",
              "    &lt;link rel=&quot;stylesheet&quot; href=&quot;https://netdna.bootstrapcdn.com/bootstrap/3.0.0/css/bootstrap-glyphicons.css&quot;/&gt;\n",
              "    &lt;link rel=&quot;stylesheet&quot; href=&quot;https://cdn.jsdelivr.net/npm/@fortawesome/fontawesome-free@6.2.0/css/all.min.css&quot;/&gt;\n",
              "    &lt;link rel=&quot;stylesheet&quot; href=&quot;https://cdnjs.cloudflare.com/ajax/libs/Leaflet.awesome-markers/2.0.2/leaflet.awesome-markers.css&quot;/&gt;\n",
              "    &lt;link rel=&quot;stylesheet&quot; href=&quot;https://cdn.jsdelivr.net/gh/python-visualization/folium/folium/templates/leaflet.awesome.rotate.min.css&quot;/&gt;\n",
              "    \n",
              "            &lt;meta name=&quot;viewport&quot; content=&quot;width=device-width,\n",
              "                initial-scale=1.0, maximum-scale=1.0, user-scalable=no&quot; /&gt;\n",
              "            &lt;style&gt;\n",
              "                #map_a1077ffb014de31dc279da3fe39c6963 {\n",
              "                    position: relative;\n",
              "                    width: 100.0%;\n",
              "                    height: 100.0%;\n",
              "                    left: 0.0%;\n",
              "                    top: 0.0%;\n",
              "                }\n",
              "                .leaflet-container { font-size: 1rem; }\n",
              "            &lt;/style&gt;\n",
              "\n",
              "            &lt;style&gt;html, body {\n",
              "                width: 100%;\n",
              "                height: 100%;\n",
              "                margin: 0;\n",
              "                padding: 0;\n",
              "            }\n",
              "            &lt;/style&gt;\n",
              "\n",
              "            &lt;style&gt;#map {\n",
              "                position:absolute;\n",
              "                top:0;\n",
              "                bottom:0;\n",
              "                right:0;\n",
              "                left:0;\n",
              "                }\n",
              "            &lt;/style&gt;\n",
              "\n",
              "            &lt;script&gt;\n",
              "                L_NO_TOUCH = false;\n",
              "                L_DISABLE_3D = false;\n",
              "            &lt;/script&gt;\n",
              "\n",
              "        \n",
              "&lt;/head&gt;\n",
              "&lt;body&gt;\n",
              "    \n",
              "    \n",
              "            &lt;div class=&quot;folium-map&quot; id=&quot;map_a1077ffb014de31dc279da3fe39c6963&quot; &gt;&lt;/div&gt;\n",
              "        \n",
              "&lt;/body&gt;\n",
              "&lt;script&gt;\n",
              "    \n",
              "    \n",
              "            var map_a1077ffb014de31dc279da3fe39c6963 = L.map(\n",
              "                &quot;map_a1077ffb014de31dc279da3fe39c6963&quot;,\n",
              "                {\n",
              "                    center: [13.823242298818009, 100.04142714565104],\n",
              "                    crs: L.CRS.EPSG3857,\n",
              "                    ...{\n",
              "  &quot;zoom&quot;: 1,\n",
              "  &quot;zoomControl&quot;: true,\n",
              "  &quot;preferCanvas&quot;: false,\n",
              "}\n",
              "\n",
              "                }\n",
              "            );\n",
              "\n",
              "            \n",
              "\n",
              "        \n",
              "    \n",
              "            var tile_layer_9236a4d50e5838d528af7d0b144fd5a1 = L.tileLayer(\n",
              "                &quot;https://{s}.basemaps.cartocdn.com/light_all/{z}/{x}/{y}{r}.png&quot;,\n",
              "                {\n",
              "  &quot;minZoom&quot;: 0,\n",
              "  &quot;maxZoom&quot;: 20,\n",
              "  &quot;maxNativeZoom&quot;: 20,\n",
              "  &quot;noWrap&quot;: false,\n",
              "  &quot;attribution&quot;: &quot;\\u0026copy; \\u003ca href=\\&quot;https://www.openstreetmap.org/copyright\\&quot;\\u003eOpenStreetMap\\u003c/a\\u003e contributors \\u0026copy; \\u003ca href=\\&quot;https://carto.com/attributions\\&quot;\\u003eCARTO\\u003c/a\\u003e&quot;,\n",
              "  &quot;subdomains&quot;: &quot;abcd&quot;,\n",
              "  &quot;detectRetina&quot;: false,\n",
              "  &quot;tms&quot;: false,\n",
              "  &quot;opacity&quot;: 1,\n",
              "}\n",
              "\n",
              "            );\n",
              "        \n",
              "    \n",
              "            tile_layer_9236a4d50e5838d528af7d0b144fd5a1.addTo(map_a1077ffb014de31dc279da3fe39c6963);\n",
              "        \n",
              "    \n",
              "            var poly_line_4bafcfdbcd75e9fdab7ec8697468f1a9 = L.polyline(\n",
              "                [[13.8225824, 100.0424602], [13.8225938, 100.0425128], [13.8225938, 100.0426383], [13.8226023, 100.0427989], [13.822625, 100.0429361], [13.8226604, 100.0431084]],\n",
              "                {&quot;bubblingMouseEvents&quot;: true, &quot;color&quot;: &quot;#3388ff&quot;, &quot;dashArray&quot;: null, &quot;dashOffset&quot;: null, &quot;fill&quot;: false, &quot;fillColor&quot;: &quot;#3388ff&quot;, &quot;fillOpacity&quot;: 0.2, &quot;fillRule&quot;: &quot;evenodd&quot;, &quot;lineCap&quot;: &quot;round&quot;, &quot;lineJoin&quot;: &quot;round&quot;, &quot;noClip&quot;: false, &quot;opacity&quot;: 1.0, &quot;smoothFactor&quot;: 1.0, &quot;stroke&quot;: true, &quot;weight&quot;: 3}\n",
              "            ).addTo(map_a1077ffb014de31dc279da3fe39c6963);\n",
              "        \n",
              "    \n",
              "            var poly_line_89ad552350db65be48f678336bd094de = L.polyline(\n",
              "                [[13.8226604, 100.0431084], [13.8227192, 100.0431113], [13.822749, 100.0431172], [13.8227781, 100.043123], [13.8228587, 100.0431227]],\n",
              "                {&quot;bubblingMouseEvents&quot;: true, &quot;color&quot;: &quot;#3388ff&quot;, &quot;dashArray&quot;: null, &quot;dashOffset&quot;: null, &quot;fill&quot;: false, &quot;fillColor&quot;: &quot;#3388ff&quot;, &quot;fillOpacity&quot;: 0.2, &quot;fillRule&quot;: &quot;evenodd&quot;, &quot;lineCap&quot;: &quot;round&quot;, &quot;lineJoin&quot;: &quot;round&quot;, &quot;noClip&quot;: false, &quot;opacity&quot;: 1.0, &quot;smoothFactor&quot;: 1.0, &quot;stroke&quot;: true, &quot;weight&quot;: 3}\n",
              "            ).addTo(map_a1077ffb014de31dc279da3fe39c6963);\n",
              "        \n",
              "    \n",
              "            var poly_line_feef3355b4c038638504c5ee30ef527f = L.polyline(\n",
              "                [[13.8228587, 100.0431227], [13.8235683, 100.0430133]],\n",
              "                {&quot;bubblingMouseEvents&quot;: true, &quot;color&quot;: &quot;#3388ff&quot;, &quot;dashArray&quot;: null, &quot;dashOffset&quot;: null, &quot;fill&quot;: false, &quot;fillColor&quot;: &quot;#3388ff&quot;, &quot;fillOpacity&quot;: 0.2, &quot;fillRule&quot;: &quot;evenodd&quot;, &quot;lineCap&quot;: &quot;round&quot;, &quot;lineJoin&quot;: &quot;round&quot;, &quot;noClip&quot;: false, &quot;opacity&quot;: 1.0, &quot;smoothFactor&quot;: 1.0, &quot;stroke&quot;: true, &quot;weight&quot;: 3}\n",
              "            ).addTo(map_a1077ffb014de31dc279da3fe39c6963);\n",
              "        \n",
              "    \n",
              "            var poly_line_3be682921b9a8ba20a52c90d53a2c11f = L.polyline(\n",
              "                [[13.8235683, 100.0430133], [13.8235627, 100.0428665], [13.8235363, 100.0422253]],\n",
              "                {&quot;bubblingMouseEvents&quot;: true, &quot;color&quot;: &quot;#3388ff&quot;, &quot;dashArray&quot;: null, &quot;dashOffset&quot;: null, &quot;fill&quot;: false, &quot;fillColor&quot;: &quot;#3388ff&quot;, &quot;fillOpacity&quot;: 0.2, &quot;fillRule&quot;: &quot;evenodd&quot;, &quot;lineCap&quot;: &quot;round&quot;, &quot;lineJoin&quot;: &quot;round&quot;, &quot;noClip&quot;: false, &quot;opacity&quot;: 1.0, &quot;smoothFactor&quot;: 1.0, &quot;stroke&quot;: true, &quot;weight&quot;: 3}\n",
              "            ).addTo(map_a1077ffb014de31dc279da3fe39c6963);\n",
              "        \n",
              "    \n",
              "            var poly_line_b4300bf06477a21a4cd287bf69b29230 = L.polyline(\n",
              "                [[13.8235363, 100.0422253], [13.8235115, 100.0416239], [13.823495, 100.041225], [13.8234783, 100.0403568]],\n",
              "                {&quot;bubblingMouseEvents&quot;: true, &quot;color&quot;: &quot;#3388ff&quot;, &quot;dashArray&quot;: null, &quot;dashOffset&quot;: null, &quot;fill&quot;: false, &quot;fillColor&quot;: &quot;#3388ff&quot;, &quot;fillOpacity&quot;: 0.2, &quot;fillRule&quot;: &quot;evenodd&quot;, &quot;lineCap&quot;: &quot;round&quot;, &quot;lineJoin&quot;: &quot;round&quot;, &quot;noClip&quot;: false, &quot;opacity&quot;: 1.0, &quot;smoothFactor&quot;: 1.0, &quot;stroke&quot;: true, &quot;weight&quot;: 3}\n",
              "            ).addTo(map_a1077ffb014de31dc279da3fe39c6963);\n",
              "        \n",
              "    \n",
              "            var poly_line_75e4d047fcf0e8fd31d17fc720af4b5a = L.polyline(\n",
              "                [[13.8234783, 100.0403568], [13.8234637, 100.0395941]],\n",
              "                {&quot;bubblingMouseEvents&quot;: true, &quot;color&quot;: &quot;#3388ff&quot;, &quot;dashArray&quot;: null, &quot;dashOffset&quot;: null, &quot;fill&quot;: false, &quot;fillColor&quot;: &quot;#3388ff&quot;, &quot;fillOpacity&quot;: 0.2, &quot;fillRule&quot;: &quot;evenodd&quot;, &quot;lineCap&quot;: &quot;round&quot;, &quot;lineJoin&quot;: &quot;round&quot;, &quot;noClip&quot;: false, &quot;opacity&quot;: 1.0, &quot;smoothFactor&quot;: 1.0, &quot;stroke&quot;: true, &quot;weight&quot;: 3}\n",
              "            ).addTo(map_a1077ffb014de31dc279da3fe39c6963);\n",
              "        \n",
              "    \n",
              "            var poly_line_59c2477a0361492f03b3dfa5e8158790 = L.polyline(\n",
              "                [[13.8234637, 100.0395941], [13.8233921, 100.0396022], [13.8233546, 100.0396064], [13.8227537, 100.0396744], [13.8224213, 100.0397112], [13.8223574, 100.0396807]],\n",
              "                {&quot;bubblingMouseEvents&quot;: true, &quot;color&quot;: &quot;#3388ff&quot;, &quot;dashArray&quot;: null, &quot;dashOffset&quot;: null, &quot;fill&quot;: false, &quot;fillColor&quot;: &quot;#3388ff&quot;, &quot;fillOpacity&quot;: 0.2, &quot;fillRule&quot;: &quot;evenodd&quot;, &quot;lineCap&quot;: &quot;round&quot;, &quot;lineJoin&quot;: &quot;round&quot;, &quot;noClip&quot;: false, &quot;opacity&quot;: 1.0, &quot;smoothFactor&quot;: 1.0, &quot;stroke&quot;: true, &quot;weight&quot;: 3}\n",
              "            ).addTo(map_a1077ffb014de31dc279da3fe39c6963);\n",
              "        \n",
              "    \n",
              "            map_a1077ffb014de31dc279da3fe39c6963.fitBounds(\n",
              "                [[13.8223574, 100.0395941], [13.8235683, 100.043123]],\n",
              "                {}\n",
              "            );\n",
              "        \n",
              "    \n",
              "            var poly_line_f0a663441c4c17a5eba2ce808e90f93c = L.polyline(\n",
              "                [[13.8225824, 100.0424602], [13.8225938, 100.0425128], [13.8225938, 100.0426383], [13.8226023, 100.0427989], [13.822625, 100.0429361], [13.8226604, 100.0431084]],\n",
              "                {&quot;bubblingMouseEvents&quot;: true, &quot;color&quot;: &quot;#3388ff&quot;, &quot;dashArray&quot;: null, &quot;dashOffset&quot;: null, &quot;fill&quot;: false, &quot;fillColor&quot;: &quot;#3388ff&quot;, &quot;fillOpacity&quot;: 0.2, &quot;fillRule&quot;: &quot;evenodd&quot;, &quot;lineCap&quot;: &quot;round&quot;, &quot;lineJoin&quot;: &quot;round&quot;, &quot;noClip&quot;: false, &quot;opacity&quot;: 1.0, &quot;smoothFactor&quot;: 1.0, &quot;stroke&quot;: true, &quot;weight&quot;: 3}\n",
              "            ).addTo(map_a1077ffb014de31dc279da3fe39c6963);\n",
              "        \n",
              "    \n",
              "            var poly_line_8eadb5f6104437ac3a7614f55dea9547 = L.polyline(\n",
              "                [[13.8226604, 100.0431084], [13.8227192, 100.0431113], [13.822749, 100.0431172], [13.8227781, 100.043123], [13.8228587, 100.0431227]],\n",
              "                {&quot;bubblingMouseEvents&quot;: true, &quot;color&quot;: &quot;#3388ff&quot;, &quot;dashArray&quot;: null, &quot;dashOffset&quot;: null, &quot;fill&quot;: false, &quot;fillColor&quot;: &quot;#3388ff&quot;, &quot;fillOpacity&quot;: 0.2, &quot;fillRule&quot;: &quot;evenodd&quot;, &quot;lineCap&quot;: &quot;round&quot;, &quot;lineJoin&quot;: &quot;round&quot;, &quot;noClip&quot;: false, &quot;opacity&quot;: 1.0, &quot;smoothFactor&quot;: 1.0, &quot;stroke&quot;: true, &quot;weight&quot;: 3}\n",
              "            ).addTo(map_a1077ffb014de31dc279da3fe39c6963);\n",
              "        \n",
              "    \n",
              "            var poly_line_773814fcbf28b9f662fad2f54dca7915 = L.polyline(\n",
              "                [[13.8228587, 100.0431227], [13.8235683, 100.0430133]],\n",
              "                {&quot;bubblingMouseEvents&quot;: true, &quot;color&quot;: &quot;#3388ff&quot;, &quot;dashArray&quot;: null, &quot;dashOffset&quot;: null, &quot;fill&quot;: false, &quot;fillColor&quot;: &quot;#3388ff&quot;, &quot;fillOpacity&quot;: 0.2, &quot;fillRule&quot;: &quot;evenodd&quot;, &quot;lineCap&quot;: &quot;round&quot;, &quot;lineJoin&quot;: &quot;round&quot;, &quot;noClip&quot;: false, &quot;opacity&quot;: 1.0, &quot;smoothFactor&quot;: 1.0, &quot;stroke&quot;: true, &quot;weight&quot;: 3}\n",
              "            ).addTo(map_a1077ffb014de31dc279da3fe39c6963);\n",
              "        \n",
              "    \n",
              "            var poly_line_26c411624fa17f51436d9aff9769dfac = L.polyline(\n",
              "                [[13.8235683, 100.0430133], [13.8236075, 100.0440482]],\n",
              "                {&quot;bubblingMouseEvents&quot;: true, &quot;color&quot;: &quot;#3388ff&quot;, &quot;dashArray&quot;: null, &quot;dashOffset&quot;: null, &quot;fill&quot;: false, &quot;fillColor&quot;: &quot;#3388ff&quot;, &quot;fillOpacity&quot;: 0.2, &quot;fillRule&quot;: &quot;evenodd&quot;, &quot;lineCap&quot;: &quot;round&quot;, &quot;lineJoin&quot;: &quot;round&quot;, &quot;noClip&quot;: false, &quot;opacity&quot;: 1.0, &quot;smoothFactor&quot;: 1.0, &quot;stroke&quot;: true, &quot;weight&quot;: 3}\n",
              "            ).addTo(map_a1077ffb014de31dc279da3fe39c6963);\n",
              "        \n",
              "    \n",
              "            var poly_line_d2d9b1c5d7b998733931c7cf6c574e22 = L.polyline(\n",
              "                [[13.8236075, 100.0440482], [13.82362, 100.0443789], [13.8236253, 100.0445187], [13.8236419, 100.0451973], [13.82365, 100.0455273], [13.8236551, 100.0457345]],\n",
              "                {&quot;bubblingMouseEvents&quot;: true, &quot;color&quot;: &quot;#3388ff&quot;, &quot;dashArray&quot;: null, &quot;dashOffset&quot;: null, &quot;fill&quot;: false, &quot;fillColor&quot;: &quot;#3388ff&quot;, &quot;fillOpacity&quot;: 0.2, &quot;fillRule&quot;: &quot;evenodd&quot;, &quot;lineCap&quot;: &quot;round&quot;, &quot;lineJoin&quot;: &quot;round&quot;, &quot;noClip&quot;: false, &quot;opacity&quot;: 1.0, &quot;smoothFactor&quot;: 1.0, &quot;stroke&quot;: true, &quot;weight&quot;: 3}\n",
              "            ).addTo(map_a1077ffb014de31dc279da3fe39c6963);\n",
              "        \n",
              "    \n",
              "            var poly_line_a2989329678762f0e5512a7999aa6e59 = L.polyline(\n",
              "                [[13.8236551, 100.0457345], [13.8236586, 100.0458797], [13.8236724, 100.0464435], [13.8237182, 100.047879], [13.8237227, 100.0480211], [13.8237451, 100.0487242], [13.8237763, 100.0498936]],\n",
              "                {&quot;bubblingMouseEvents&quot;: true, &quot;color&quot;: &quot;#3388ff&quot;, &quot;dashArray&quot;: null, &quot;dashOffset&quot;: null, &quot;fill&quot;: false, &quot;fillColor&quot;: &quot;#3388ff&quot;, &quot;fillOpacity&quot;: 0.2, &quot;fillRule&quot;: &quot;evenodd&quot;, &quot;lineCap&quot;: &quot;round&quot;, &quot;lineJoin&quot;: &quot;round&quot;, &quot;noClip&quot;: false, &quot;opacity&quot;: 1.0, &quot;smoothFactor&quot;: 1.0, &quot;stroke&quot;: true, &quot;weight&quot;: 3}\n",
              "            ).addTo(map_a1077ffb014de31dc279da3fe39c6963);\n",
              "        \n",
              "    \n",
              "            var poly_line_ef52841e084313ef22105dd2f3f610e2 = L.polyline(\n",
              "                [[13.8237763, 100.0498936], [13.823495, 100.0499258], [13.8233501, 100.0499398]],\n",
              "                {&quot;bubblingMouseEvents&quot;: true, &quot;color&quot;: &quot;#3388ff&quot;, &quot;dashArray&quot;: null, &quot;dashOffset&quot;: null, &quot;fill&quot;: false, &quot;fillColor&quot;: &quot;#3388ff&quot;, &quot;fillOpacity&quot;: 0.2, &quot;fillRule&quot;: &quot;evenodd&quot;, &quot;lineCap&quot;: &quot;round&quot;, &quot;lineJoin&quot;: &quot;round&quot;, &quot;noClip&quot;: false, &quot;opacity&quot;: 1.0, &quot;smoothFactor&quot;: 1.0, &quot;stroke&quot;: true, &quot;weight&quot;: 3}\n",
              "            ).addTo(map_a1077ffb014de31dc279da3fe39c6963);\n",
              "        \n",
              "    \n",
              "            var poly_line_1e8df7f33113a3968c6e6445f3bfa292 = L.polyline(\n",
              "                [[13.8233501, 100.0499398], [13.822965, 100.0499991], [13.8227555, 100.050038]],\n",
              "                {&quot;bubblingMouseEvents&quot;: true, &quot;color&quot;: &quot;#3388ff&quot;, &quot;dashArray&quot;: null, &quot;dashOffset&quot;: null, &quot;fill&quot;: false, &quot;fillColor&quot;: &quot;#3388ff&quot;, &quot;fillOpacity&quot;: 0.2, &quot;fillRule&quot;: &quot;evenodd&quot;, &quot;lineCap&quot;: &quot;round&quot;, &quot;lineJoin&quot;: &quot;round&quot;, &quot;noClip&quot;: false, &quot;opacity&quot;: 1.0, &quot;smoothFactor&quot;: 1.0, &quot;stroke&quot;: true, &quot;weight&quot;: 3}\n",
              "            ).addTo(map_a1077ffb014de31dc279da3fe39c6963);\n",
              "        \n",
              "    \n",
              "            var poly_line_29bc2c37b1f6c3883781a0ae01807787 = L.polyline(\n",
              "                [[13.8227555, 100.050038], [13.822746, 100.0500984], [13.8226695, 100.0505967]],\n",
              "                {&quot;bubblingMouseEvents&quot;: true, &quot;color&quot;: &quot;#3388ff&quot;, &quot;dashArray&quot;: null, &quot;dashOffset&quot;: null, &quot;fill&quot;: false, &quot;fillColor&quot;: &quot;#3388ff&quot;, &quot;fillOpacity&quot;: 0.2, &quot;fillRule&quot;: &quot;evenodd&quot;, &quot;lineCap&quot;: &quot;round&quot;, &quot;lineJoin&quot;: &quot;round&quot;, &quot;noClip&quot;: false, &quot;opacity&quot;: 1.0, &quot;smoothFactor&quot;: 1.0, &quot;stroke&quot;: true, &quot;weight&quot;: 3}\n",
              "            ).addTo(map_a1077ffb014de31dc279da3fe39c6963);\n",
              "        \n",
              "    \n",
              "            var poly_line_7d89c1ef99d393a42b5c1a7796b2078e = L.polyline(\n",
              "                [[13.8226695, 100.0505967], [13.8225967, 100.051055]],\n",
              "                {&quot;bubblingMouseEvents&quot;: true, &quot;color&quot;: &quot;#3388ff&quot;, &quot;dashArray&quot;: null, &quot;dashOffset&quot;: null, &quot;fill&quot;: false, &quot;fillColor&quot;: &quot;#3388ff&quot;, &quot;fillOpacity&quot;: 0.2, &quot;fillRule&quot;: &quot;evenodd&quot;, &quot;lineCap&quot;: &quot;round&quot;, &quot;lineJoin&quot;: &quot;round&quot;, &quot;noClip&quot;: false, &quot;opacity&quot;: 1.0, &quot;smoothFactor&quot;: 1.0, &quot;stroke&quot;: true, &quot;weight&quot;: 3}\n",
              "            ).addTo(map_a1077ffb014de31dc279da3fe39c6963);\n",
              "        \n",
              "    \n",
              "            var poly_line_732e5add936d17341a24ed014de7d5be = L.polyline(\n",
              "                [[13.8225967, 100.051055], [13.8224444, 100.0518905]],\n",
              "                {&quot;bubblingMouseEvents&quot;: true, &quot;color&quot;: &quot;#3388ff&quot;, &quot;dashArray&quot;: null, &quot;dashOffset&quot;: null, &quot;fill&quot;: false, &quot;fillColor&quot;: &quot;#3388ff&quot;, &quot;fillOpacity&quot;: 0.2, &quot;fillRule&quot;: &quot;evenodd&quot;, &quot;lineCap&quot;: &quot;round&quot;, &quot;lineJoin&quot;: &quot;round&quot;, &quot;noClip&quot;: false, &quot;opacity&quot;: 1.0, &quot;smoothFactor&quot;: 1.0, &quot;stroke&quot;: true, &quot;weight&quot;: 3}\n",
              "            ).addTo(map_a1077ffb014de31dc279da3fe39c6963);\n",
              "        \n",
              "    \n",
              "            var poly_line_f3950ae7922770968bf58207d0e56e6c = L.polyline(\n",
              "                [[13.8224444, 100.0518905], [13.8223508, 100.052348]],\n",
              "                {&quot;bubblingMouseEvents&quot;: true, &quot;color&quot;: &quot;#3388ff&quot;, &quot;dashArray&quot;: null, &quot;dashOffset&quot;: null, &quot;fill&quot;: false, &quot;fillColor&quot;: &quot;#3388ff&quot;, &quot;fillOpacity&quot;: 0.2, &quot;fillRule&quot;: &quot;evenodd&quot;, &quot;lineCap&quot;: &quot;round&quot;, &quot;lineJoin&quot;: &quot;round&quot;, &quot;noClip&quot;: false, &quot;opacity&quot;: 1.0, &quot;smoothFactor&quot;: 1.0, &quot;stroke&quot;: true, &quot;weight&quot;: 3}\n",
              "            ).addTo(map_a1077ffb014de31dc279da3fe39c6963);\n",
              "        \n",
              "    \n",
              "            var poly_line_32fc18b0db7bb377bbe5c55f48810d29 = L.polyline(\n",
              "                [[13.8223508, 100.052348], [13.8222649, 100.0527434]],\n",
              "                {&quot;bubblingMouseEvents&quot;: true, &quot;color&quot;: &quot;#3388ff&quot;, &quot;dashArray&quot;: null, &quot;dashOffset&quot;: null, &quot;fill&quot;: false, &quot;fillColor&quot;: &quot;#3388ff&quot;, &quot;fillOpacity&quot;: 0.2, &quot;fillRule&quot;: &quot;evenodd&quot;, &quot;lineCap&quot;: &quot;round&quot;, &quot;lineJoin&quot;: &quot;round&quot;, &quot;noClip&quot;: false, &quot;opacity&quot;: 1.0, &quot;smoothFactor&quot;: 1.0, &quot;stroke&quot;: true, &quot;weight&quot;: 3}\n",
              "            ).addTo(map_a1077ffb014de31dc279da3fe39c6963);\n",
              "        \n",
              "    \n",
              "            var poly_line_3fe3a6210f69568c6faf0df081f29fb6 = L.polyline(\n",
              "                [[13.8222649, 100.0527434], [13.822224, 100.0529175], [13.8221705, 100.0531447]],\n",
              "                {&quot;bubblingMouseEvents&quot;: true, &quot;color&quot;: &quot;#3388ff&quot;, &quot;dashArray&quot;: null, &quot;dashOffset&quot;: null, &quot;fill&quot;: false, &quot;fillColor&quot;: &quot;#3388ff&quot;, &quot;fillOpacity&quot;: 0.2, &quot;fillRule&quot;: &quot;evenodd&quot;, &quot;lineCap&quot;: &quot;round&quot;, &quot;lineJoin&quot;: &quot;round&quot;, &quot;noClip&quot;: false, &quot;opacity&quot;: 1.0, &quot;smoothFactor&quot;: 1.0, &quot;stroke&quot;: true, &quot;weight&quot;: 3}\n",
              "            ).addTo(map_a1077ffb014de31dc279da3fe39c6963);\n",
              "        \n",
              "    \n",
              "            var poly_line_e366fc4472bb035a09a7e68752443838 = L.polyline(\n",
              "                [[13.8221705, 100.0531447], [13.8221082, 100.053447]],\n",
              "                {&quot;bubblingMouseEvents&quot;: true, &quot;color&quot;: &quot;#3388ff&quot;, &quot;dashArray&quot;: null, &quot;dashOffset&quot;: null, &quot;fill&quot;: false, &quot;fillColor&quot;: &quot;#3388ff&quot;, &quot;fillOpacity&quot;: 0.2, &quot;fillRule&quot;: &quot;evenodd&quot;, &quot;lineCap&quot;: &quot;round&quot;, &quot;lineJoin&quot;: &quot;round&quot;, &quot;noClip&quot;: false, &quot;opacity&quot;: 1.0, &quot;smoothFactor&quot;: 1.0, &quot;stroke&quot;: true, &quot;weight&quot;: 3}\n",
              "            ).addTo(map_a1077ffb014de31dc279da3fe39c6963);\n",
              "        \n",
              "    \n",
              "            var poly_line_9044fde594ee78e3003716764e0429de = L.polyline(\n",
              "                [[13.8221082, 100.053447], [13.8220727, 100.0536195]],\n",
              "                {&quot;bubblingMouseEvents&quot;: true, &quot;color&quot;: &quot;#3388ff&quot;, &quot;dashArray&quot;: null, &quot;dashOffset&quot;: null, &quot;fill&quot;: false, &quot;fillColor&quot;: &quot;#3388ff&quot;, &quot;fillOpacity&quot;: 0.2, &quot;fillRule&quot;: &quot;evenodd&quot;, &quot;lineCap&quot;: &quot;round&quot;, &quot;lineJoin&quot;: &quot;round&quot;, &quot;noClip&quot;: false, &quot;opacity&quot;: 1.0, &quot;smoothFactor&quot;: 1.0, &quot;stroke&quot;: true, &quot;weight&quot;: 3}\n",
              "            ).addTo(map_a1077ffb014de31dc279da3fe39c6963);\n",
              "        \n",
              "    \n",
              "            var poly_line_2885a3645446f69f092c24c61b4fadc0 = L.polyline(\n",
              "                [[13.8220727, 100.0536195], [13.8219841, 100.0539121]],\n",
              "                {&quot;bubblingMouseEvents&quot;: true, &quot;color&quot;: &quot;#3388ff&quot;, &quot;dashArray&quot;: null, &quot;dashOffset&quot;: null, &quot;fill&quot;: false, &quot;fillColor&quot;: &quot;#3388ff&quot;, &quot;fillOpacity&quot;: 0.2, &quot;fillRule&quot;: &quot;evenodd&quot;, &quot;lineCap&quot;: &quot;round&quot;, &quot;lineJoin&quot;: &quot;round&quot;, &quot;noClip&quot;: false, &quot;opacity&quot;: 1.0, &quot;smoothFactor&quot;: 1.0, &quot;stroke&quot;: true, &quot;weight&quot;: 3}\n",
              "            ).addTo(map_a1077ffb014de31dc279da3fe39c6963);\n",
              "        \n",
              "    \n",
              "            var poly_line_e5542f34e7a9e227a1af05dda60c587c = L.polyline(\n",
              "                [[13.8219841, 100.0539121], [13.8219539, 100.054035]],\n",
              "                {&quot;bubblingMouseEvents&quot;: true, &quot;color&quot;: &quot;#3388ff&quot;, &quot;dashArray&quot;: null, &quot;dashOffset&quot;: null, &quot;fill&quot;: false, &quot;fillColor&quot;: &quot;#3388ff&quot;, &quot;fillOpacity&quot;: 0.2, &quot;fillRule&quot;: &quot;evenodd&quot;, &quot;lineCap&quot;: &quot;round&quot;, &quot;lineJoin&quot;: &quot;round&quot;, &quot;noClip&quot;: false, &quot;opacity&quot;: 1.0, &quot;smoothFactor&quot;: 1.0, &quot;stroke&quot;: true, &quot;weight&quot;: 3}\n",
              "            ).addTo(map_a1077ffb014de31dc279da3fe39c6963);\n",
              "        \n",
              "    \n",
              "            var poly_line_4470a675547f04d972561575382dee03 = L.polyline(\n",
              "                [[13.8219539, 100.054035], [13.8219328, 100.0541212]],\n",
              "                {&quot;bubblingMouseEvents&quot;: true, &quot;color&quot;: &quot;#3388ff&quot;, &quot;dashArray&quot;: null, &quot;dashOffset&quot;: null, &quot;fill&quot;: false, &quot;fillColor&quot;: &quot;#3388ff&quot;, &quot;fillOpacity&quot;: 0.2, &quot;fillRule&quot;: &quot;evenodd&quot;, &quot;lineCap&quot;: &quot;round&quot;, &quot;lineJoin&quot;: &quot;round&quot;, &quot;noClip&quot;: false, &quot;opacity&quot;: 1.0, &quot;smoothFactor&quot;: 1.0, &quot;stroke&quot;: true, &quot;weight&quot;: 3}\n",
              "            ).addTo(map_a1077ffb014de31dc279da3fe39c6963);\n",
              "        \n",
              "    \n",
              "            var poly_line_5339072fd45df279ea90b4becdb10b0e = L.polyline(\n",
              "                [[13.8219328, 100.0541212], [13.8218875, 100.054306], [13.8217533, 100.0548536]],\n",
              "                {&quot;bubblingMouseEvents&quot;: true, &quot;color&quot;: &quot;#3388ff&quot;, &quot;dashArray&quot;: null, &quot;dashOffset&quot;: null, &quot;fill&quot;: false, &quot;fillColor&quot;: &quot;#3388ff&quot;, &quot;fillOpacity&quot;: 0.2, &quot;fillRule&quot;: &quot;evenodd&quot;, &quot;lineCap&quot;: &quot;round&quot;, &quot;lineJoin&quot;: &quot;round&quot;, &quot;noClip&quot;: false, &quot;opacity&quot;: 1.0, &quot;smoothFactor&quot;: 1.0, &quot;stroke&quot;: true, &quot;weight&quot;: 3}\n",
              "            ).addTo(map_a1077ffb014de31dc279da3fe39c6963);\n",
              "        \n",
              "    \n",
              "            var poly_line_bba9242c3cd70eda29ea399a9a11eed0 = L.polyline(\n",
              "                [[13.8217533, 100.0548536], [13.8217292, 100.0549523], [13.8216997, 100.0550585], [13.8215313, 100.0555434]],\n",
              "                {&quot;bubblingMouseEvents&quot;: true, &quot;color&quot;: &quot;#3388ff&quot;, &quot;dashArray&quot;: null, &quot;dashOffset&quot;: null, &quot;fill&quot;: false, &quot;fillColor&quot;: &quot;#3388ff&quot;, &quot;fillOpacity&quot;: 0.2, &quot;fillRule&quot;: &quot;evenodd&quot;, &quot;lineCap&quot;: &quot;round&quot;, &quot;lineJoin&quot;: &quot;round&quot;, &quot;noClip&quot;: false, &quot;opacity&quot;: 1.0, &quot;smoothFactor&quot;: 1.0, &quot;stroke&quot;: true, &quot;weight&quot;: 3}\n",
              "            ).addTo(map_a1077ffb014de31dc279da3fe39c6963);\n",
              "        \n",
              "    \n",
              "            var poly_line_ea75117958d6cb8ea53fee1cf572b02a = L.polyline(\n",
              "                [[13.8215313, 100.0555434], [13.8210077, 100.0555732], [13.8206381, 100.0556536], [13.8196183, 100.0559594]],\n",
              "                {&quot;bubblingMouseEvents&quot;: true, &quot;color&quot;: &quot;#3388ff&quot;, &quot;dashArray&quot;: null, &quot;dashOffset&quot;: null, &quot;fill&quot;: false, &quot;fillColor&quot;: &quot;#3388ff&quot;, &quot;fillOpacity&quot;: 0.2, &quot;fillRule&quot;: &quot;evenodd&quot;, &quot;lineCap&quot;: &quot;round&quot;, &quot;lineJoin&quot;: &quot;round&quot;, &quot;noClip&quot;: false, &quot;opacity&quot;: 1.0, &quot;smoothFactor&quot;: 1.0, &quot;stroke&quot;: true, &quot;weight&quot;: 3}\n",
              "            ).addTo(map_a1077ffb014de31dc279da3fe39c6963);\n",
              "        \n",
              "    \n",
              "            var poly_line_b8bd8cdb137b740613ecb5ba3f0d057c = L.polyline(\n",
              "                [[13.8196183, 100.0559594], [13.8196206, 100.0559247]],\n",
              "                {&quot;bubblingMouseEvents&quot;: true, &quot;color&quot;: &quot;#3388ff&quot;, &quot;dashArray&quot;: null, &quot;dashOffset&quot;: null, &quot;fill&quot;: false, &quot;fillColor&quot;: &quot;#3388ff&quot;, &quot;fillOpacity&quot;: 0.2, &quot;fillRule&quot;: &quot;evenodd&quot;, &quot;lineCap&quot;: &quot;round&quot;, &quot;lineJoin&quot;: &quot;round&quot;, &quot;noClip&quot;: false, &quot;opacity&quot;: 1.0, &quot;smoothFactor&quot;: 1.0, &quot;stroke&quot;: true, &quot;weight&quot;: 3}\n",
              "            ).addTo(map_a1077ffb014de31dc279da3fe39c6963);\n",
              "        \n",
              "    \n",
              "            var poly_line_0ef048c2ad8c8ba5fc960b37a2ee14b2 = L.polyline(\n",
              "                [[13.8196206, 100.0559247], [13.8190218, 100.0559556], [13.8188741, 100.0559415]],\n",
              "                {&quot;bubblingMouseEvents&quot;: true, &quot;color&quot;: &quot;#3388ff&quot;, &quot;dashArray&quot;: null, &quot;dashOffset&quot;: null, &quot;fill&quot;: false, &quot;fillColor&quot;: &quot;#3388ff&quot;, &quot;fillOpacity&quot;: 0.2, &quot;fillRule&quot;: &quot;evenodd&quot;, &quot;lineCap&quot;: &quot;round&quot;, &quot;lineJoin&quot;: &quot;round&quot;, &quot;noClip&quot;: false, &quot;opacity&quot;: 1.0, &quot;smoothFactor&quot;: 1.0, &quot;stroke&quot;: true, &quot;weight&quot;: 3}\n",
              "            ).addTo(map_a1077ffb014de31dc279da3fe39c6963);\n",
              "        \n",
              "    \n",
              "            var poly_line_53a0eb288c6135f25eb14adcb2bc241a = L.polyline(\n",
              "                [[13.8188741, 100.0559415], [13.8187939, 100.0559342], [13.8183902, 100.0559395], [13.8183444, 100.055939]],\n",
              "                {&quot;bubblingMouseEvents&quot;: true, &quot;color&quot;: &quot;#3388ff&quot;, &quot;dashArray&quot;: null, &quot;dashOffset&quot;: null, &quot;fill&quot;: false, &quot;fillColor&quot;: &quot;#3388ff&quot;, &quot;fillOpacity&quot;: 0.2, &quot;fillRule&quot;: &quot;evenodd&quot;, &quot;lineCap&quot;: &quot;round&quot;, &quot;lineJoin&quot;: &quot;round&quot;, &quot;noClip&quot;: false, &quot;opacity&quot;: 1.0, &quot;smoothFactor&quot;: 1.0, &quot;stroke&quot;: true, &quot;weight&quot;: 3}\n",
              "            ).addTo(map_a1077ffb014de31dc279da3fe39c6963);\n",
              "        \n",
              "    \n",
              "            var poly_line_2a8eb9b4eca74de2906d8dc833f2e6f5 = L.polyline(\n",
              "                [[13.8183444, 100.055939], [13.8185045, 100.0570689]],\n",
              "                {&quot;bubblingMouseEvents&quot;: true, &quot;color&quot;: &quot;#3388ff&quot;, &quot;dashArray&quot;: null, &quot;dashOffset&quot;: null, &quot;fill&quot;: false, &quot;fillColor&quot;: &quot;#3388ff&quot;, &quot;fillOpacity&quot;: 0.2, &quot;fillRule&quot;: &quot;evenodd&quot;, &quot;lineCap&quot;: &quot;round&quot;, &quot;lineJoin&quot;: &quot;round&quot;, &quot;noClip&quot;: false, &quot;opacity&quot;: 1.0, &quot;smoothFactor&quot;: 1.0, &quot;stroke&quot;: true, &quot;weight&quot;: 3}\n",
              "            ).addTo(map_a1077ffb014de31dc279da3fe39c6963);\n",
              "        \n",
              "    \n",
              "            var poly_line_a47fc009c16612159e2359df29d84802 = L.polyline(\n",
              "                [[13.8185045, 100.0570689], [13.8186119, 100.0570507]],\n",
              "                {&quot;bubblingMouseEvents&quot;: true, &quot;color&quot;: &quot;#3388ff&quot;, &quot;dashArray&quot;: null, &quot;dashOffset&quot;: null, &quot;fill&quot;: false, &quot;fillColor&quot;: &quot;#3388ff&quot;, &quot;fillOpacity&quot;: 0.2, &quot;fillRule&quot;: &quot;evenodd&quot;, &quot;lineCap&quot;: &quot;round&quot;, &quot;lineJoin&quot;: &quot;round&quot;, &quot;noClip&quot;: false, &quot;opacity&quot;: 1.0, &quot;smoothFactor&quot;: 1.0, &quot;stroke&quot;: true, &quot;weight&quot;: 3}\n",
              "            ).addTo(map_a1077ffb014de31dc279da3fe39c6963);\n",
              "        \n",
              "    \n",
              "            var poly_line_fd54093dc2cdab476255d68ea80f031d = L.polyline(\n",
              "                [[13.8186119, 100.0570507], [13.8186791, 100.0575031]],\n",
              "                {&quot;bubblingMouseEvents&quot;: true, &quot;color&quot;: &quot;#3388ff&quot;, &quot;dashArray&quot;: null, &quot;dashOffset&quot;: null, &quot;fill&quot;: false, &quot;fillColor&quot;: &quot;#3388ff&quot;, &quot;fillOpacity&quot;: 0.2, &quot;fillRule&quot;: &quot;evenodd&quot;, &quot;lineCap&quot;: &quot;round&quot;, &quot;lineJoin&quot;: &quot;round&quot;, &quot;noClip&quot;: false, &quot;opacity&quot;: 1.0, &quot;smoothFactor&quot;: 1.0, &quot;stroke&quot;: true, &quot;weight&quot;: 3}\n",
              "            ).addTo(map_a1077ffb014de31dc279da3fe39c6963);\n",
              "        \n",
              "    \n",
              "            var poly_line_ac4db1466134a89e36d4752d739bff0e = L.polyline(\n",
              "                [[13.8186791, 100.0575031], [13.8180938, 100.0575984], [13.8172467, 100.0577243]],\n",
              "                {&quot;bubblingMouseEvents&quot;: true, &quot;color&quot;: &quot;#3388ff&quot;, &quot;dashArray&quot;: null, &quot;dashOffset&quot;: null, &quot;fill&quot;: false, &quot;fillColor&quot;: &quot;#3388ff&quot;, &quot;fillOpacity&quot;: 0.2, &quot;fillRule&quot;: &quot;evenodd&quot;, &quot;lineCap&quot;: &quot;round&quot;, &quot;lineJoin&quot;: &quot;round&quot;, &quot;noClip&quot;: false, &quot;opacity&quot;: 1.0, &quot;smoothFactor&quot;: 1.0, &quot;stroke&quot;: true, &quot;weight&quot;: 3}\n",
              "            ).addTo(map_a1077ffb014de31dc279da3fe39c6963);\n",
              "        \n",
              "    \n",
              "            var poly_line_abcf59be35c998f5637dda9cf48b81c5 = L.polyline(\n",
              "                [[13.8172467, 100.0577243], [13.8173427, 100.0582698]],\n",
              "                {&quot;bubblingMouseEvents&quot;: true, &quot;color&quot;: &quot;#3388ff&quot;, &quot;dashArray&quot;: null, &quot;dashOffset&quot;: null, &quot;fill&quot;: false, &quot;fillColor&quot;: &quot;#3388ff&quot;, &quot;fillOpacity&quot;: 0.2, &quot;fillRule&quot;: &quot;evenodd&quot;, &quot;lineCap&quot;: &quot;round&quot;, &quot;lineJoin&quot;: &quot;round&quot;, &quot;noClip&quot;: false, &quot;opacity&quot;: 1.0, &quot;smoothFactor&quot;: 1.0, &quot;stroke&quot;: true, &quot;weight&quot;: 3}\n",
              "            ).addTo(map_a1077ffb014de31dc279da3fe39c6963);\n",
              "        \n",
              "    \n",
              "            map_a1077ffb014de31dc279da3fe39c6963.fitBounds(\n",
              "                [[13.8172467, 100.0424602], [13.8237763, 100.0582698]],\n",
              "                {}\n",
              "            );\n",
              "        \n",
              "    \n",
              "            var marker_0b9b17500ebd2f8345529bd5abb1c2f0 = L.marker(\n",
              "                [13.8227, 100.0426],\n",
              "                {\n",
              "}\n",
              "            ).addTo(map_a1077ffb014de31dc279da3fe39c6963);\n",
              "        \n",
              "    \n",
              "            var icon_552f7f0fbac7e6e1665bd9b0922f3c9b = L.AwesomeMarkers.icon(\n",
              "                {\n",
              "  &quot;markerColor&quot;: &quot;green&quot;,\n",
              "  &quot;iconColor&quot;: &quot;white&quot;,\n",
              "  &quot;icon&quot;: &quot;info-sign&quot;,\n",
              "  &quot;prefix&quot;: &quot;glyphicon&quot;,\n",
              "  &quot;extraClasses&quot;: &quot;fa-rotate-0&quot;,\n",
              "}\n",
              "            );\n",
              "        \n",
              "    \n",
              "        var popup_fd4e3c8f6416bd3dc7d3bbec7893e030 = L.popup({\n",
              "  &quot;maxWidth&quot;: &quot;100%&quot;,\n",
              "});\n",
              "\n",
              "        \n",
              "            \n",
              "                var html_7710df82c84a8d09918d65b4c8e5f74a = $(`&lt;div id=&quot;html_7710df82c84a8d09918d65b4c8e5f74a&quot; style=&quot;width: 100.0%; height: 100.0%;&quot;&gt;&lt;b&gt;Start:&lt;/b&gt; สนามจันทร์แมนชั่น, Nakhon Pathom, Thailand&lt;/div&gt;`)[0];\n",
              "                popup_fd4e3c8f6416bd3dc7d3bbec7893e030.setContent(html_7710df82c84a8d09918d65b4c8e5f74a);\n",
              "            \n",
              "        \n",
              "\n",
              "        marker_0b9b17500ebd2f8345529bd5abb1c2f0.bindPopup(popup_fd4e3c8f6416bd3dc7d3bbec7893e030)\n",
              "        ;\n",
              "\n",
              "        \n",
              "    \n",
              "    \n",
              "                marker_0b9b17500ebd2f8345529bd5abb1c2f0.setIcon(icon_552f7f0fbac7e6e1665bd9b0922f3c9b);\n",
              "            \n",
              "    \n",
              "            var marker_8ac1d562af2dba00e9276cc1c1da0cc3 = L.marker(\n",
              "                [13.82039, 100.041],\n",
              "                {\n",
              "}\n",
              "            ).addTo(map_a1077ffb014de31dc279da3fe39c6963);\n",
              "        \n",
              "    \n",
              "            var icon_e4674dca36cd47d5295438f3b1cbd0c7 = L.AwesomeMarkers.icon(\n",
              "                {\n",
              "  &quot;markerColor&quot;: &quot;red&quot;,\n",
              "  &quot;iconColor&quot;: &quot;white&quot;,\n",
              "  &quot;icon&quot;: &quot;info-sign&quot;,\n",
              "  &quot;prefix&quot;: &quot;glyphicon&quot;,\n",
              "  &quot;extraClasses&quot;: &quot;fa-rotate-0&quot;,\n",
              "}\n",
              "            );\n",
              "        \n",
              "    \n",
              "        var popup_0d9db07cf5c57147c20c140b23c81f54 = L.popup({\n",
              "  &quot;maxWidth&quot;: &quot;100%&quot;,\n",
              "});\n",
              "\n",
              "        \n",
              "            \n",
              "                var html_e09026ecb06a221f01b16ccd5a075559 = $(`&lt;div id=&quot;html_e09026ecb06a221f01b16ccd5a075559&quot; style=&quot;width: 100.0%; height: 100.0%;&quot;&gt;&lt;b&gt;Destination 1:&lt;/b&gt; Silpakorn University Sanamchandra Palace Campus, Nakhon Pathom, Thailand&lt;/div&gt;`)[0];\n",
              "                popup_0d9db07cf5c57147c20c140b23c81f54.setContent(html_e09026ecb06a221f01b16ccd5a075559);\n",
              "            \n",
              "        \n",
              "\n",
              "        marker_8ac1d562af2dba00e9276cc1c1da0cc3.bindPopup(popup_0d9db07cf5c57147c20c140b23c81f54)\n",
              "        ;\n",
              "\n",
              "        \n",
              "    \n",
              "    \n",
              "                marker_8ac1d562af2dba00e9276cc1c1da0cc3.setIcon(icon_e4674dca36cd47d5295438f3b1cbd0c7);\n",
              "            \n",
              "    \n",
              "            var marker_533c2f09b59b69a24f47f324e8d76274 = L.marker(\n",
              "                [13.8161, 100.5607],\n",
              "                {\n",
              "}\n",
              "            ).addTo(map_a1077ffb014de31dc279da3fe39c6963);\n",
              "        \n",
              "    \n",
              "            var icon_35d68dcf95aac5b0949ef9e8baa7c022 = L.AwesomeMarkers.icon(\n",
              "                {\n",
              "  &quot;markerColor&quot;: &quot;blue&quot;,\n",
              "  &quot;iconColor&quot;: &quot;white&quot;,\n",
              "  &quot;icon&quot;: &quot;info-sign&quot;,\n",
              "  &quot;prefix&quot;: &quot;glyphicon&quot;,\n",
              "  &quot;extraClasses&quot;: &quot;fa-rotate-0&quot;,\n",
              "}\n",
              "            );\n",
              "        \n",
              "    \n",
              "        var popup_a851f06e6a1c253c1eec013317ca00ec = L.popup({\n",
              "  &quot;maxWidth&quot;: &quot;100%&quot;,\n",
              "});\n",
              "\n",
              "        \n",
              "            \n",
              "                var html_aebf332143b85654fa7475d9453b9ea6 = $(`&lt;div id=&quot;html_aebf332143b85654fa7475d9453b9ea6&quot; style=&quot;width: 100.0%; height: 100.0%;&quot;&gt;&lt;b&gt;Destination 2:&lt;/b&gt; Central Plaza Ladprao&lt;/div&gt;`)[0];\n",
              "                popup_a851f06e6a1c253c1eec013317ca00ec.setContent(html_aebf332143b85654fa7475d9453b9ea6);\n",
              "            \n",
              "        \n",
              "\n",
              "        marker_533c2f09b59b69a24f47f324e8d76274.bindPopup(popup_a851f06e6a1c253c1eec013317ca00ec)\n",
              "        ;\n",
              "\n",
              "        \n",
              "    \n",
              "    \n",
              "                marker_533c2f09b59b69a24f47f324e8d76274.setIcon(icon_35d68dcf95aac5b0949ef9e8baa7c022);\n",
              "            \n",
              "&lt;/script&gt;\n",
              "&lt;/html&gt;\" style=\"position:absolute;width:100%;height:100%;left:0;top:0;border:none !important;\" allowfullscreen webkitallowfullscreen mozallowfullscreen></iframe></div></div>"
            ]
          },
          "metadata": {}
        }
      ]
    },
    {
      "cell_type": "code",
      "metadata": {
        "id": "39ab359d",
        "colab": {
          "base_uri": "https://localhost:8080/"
        },
        "outputId": "ad05bd29-7fe5-4af8-8666-a055d73a9816"
      },
      "source": [
        "help(ox.graph_from_place)"
      ],
      "execution_count": 24,
      "outputs": [
        {
          "output_type": "stream",
          "name": "stdout",
          "text": [
            "Help on function graph_from_place in module osmnx.graph:\n",
            "\n",
            "graph_from_place(query, network_type='all_private', simplify=True, retain_all=False, truncate_by_edge=False, which_result=None, buffer_dist=None, clean_periphery=None, custom_filter=None)\n",
            "    Download and create a graph within the boundaries of some place(s).\n",
            "    \n",
            "    The query must be geocodable and OSM must have polygon boundaries for the\n",
            "    geocode result. If OSM does not have a polygon for this place, you can\n",
            "    instead get its street network using the graph_from_address function,\n",
            "    which geocodes the place name to a point and gets the network within some\n",
            "    distance of that point.\n",
            "    \n",
            "    If OSM does have polygon boundaries for this place but you're not finding\n",
            "    it, try to vary the query string, pass in a structured query dict, or vary\n",
            "    the which_result argument to use a different geocode result. If you know\n",
            "    the OSM ID of the place, you can retrieve its boundary polygon using the\n",
            "    geocode_to_gdf function, then pass it to the graph_from_polygon function.\n",
            "    \n",
            "    You can use the `settings` module to retrieve a snapshot of historical OSM\n",
            "    data as of a certain date, or to configure the Overpass server timeout,\n",
            "    memory allocation, and other custom settings.\n",
            "    \n",
            "    Parameters\n",
            "    ----------\n",
            "    query : string or dict or list\n",
            "        the query or queries to geocode to get place boundary polygon(s)\n",
            "    network_type : string {\"all_private\", \"all\", \"bike\", \"drive\", \"drive_service\", \"walk\"}\n",
            "        what type of street network to get if custom_filter is None\n",
            "    simplify : bool\n",
            "        if True, simplify graph topology with the `simplify_graph` function\n",
            "    retain_all : bool\n",
            "        if True, return the entire graph even if it is not connected.\n",
            "        otherwise, retain only the largest weakly connected component.\n",
            "    truncate_by_edge : bool\n",
            "        if True, retain nodes outside boundary polygon if at least one of\n",
            "        node's neighbors is within the polygon\n",
            "    which_result : int\n",
            "        which geocoding result to use. if None, auto-select the first\n",
            "        (Multi)Polygon or raise an error if OSM doesn't return one.\n",
            "    buffer_dist : float\n",
            "        deprecated, do not use\n",
            "    clean_periphery : bool\n",
            "        deprecated, do not use\n",
            "    custom_filter : string\n",
            "        a custom ways filter to be used instead of the network_type presets\n",
            "        e.g., '[\"power\"~\"line\"]' or '[\"highway\"~\"motorway|trunk\"]'. Also pass\n",
            "        in a network_type that is in settings.bidirectional_network_types if\n",
            "        you want graph to be fully bi-directional.\n",
            "    \n",
            "    Returns\n",
            "    -------\n",
            "    G : networkx.MultiDiGraph\n",
            "    \n",
            "    Notes\n",
            "    -----\n",
            "    Very large query areas use the `utils_geo._consolidate_subdivide_geometry`\n",
            "    function to automatically make multiple requests: see that function's\n",
            "    documentation for caveats.\n",
            "\n"
          ]
        }
      ]
    },
    {
      "cell_type": "code",
      "source": [
        "# ขั้นตอนที่ 10 เพิ่ม \"travel time\" เป็น weight แทน distance"
      ],
      "metadata": {
        "id": "4Ww8cTyahApn"
      },
      "execution_count": 25,
      "outputs": []
    },
    {
      "cell_type": "code",
      "metadata": {
        "id": "bfbe898d",
        "colab": {
          "base_uri": "https://localhost:8080/"
        },
        "outputId": "aa4af582-ac8b-4bc2-8e44-c6debf47bced"
      },
      "source": [
        "# Define estimated travel speeds for different road types in km/h\n",
        "speed_kmph = {\n",
        "    'residential': 30,  # Typical speed in residential areas\n",
        "    'unclassified': 30, # Similar to residential\n",
        "    'tertiary': 40,     # Medium speed urban roads\n",
        "    'secondary': 50,    # Arterial roads\n",
        "    'primary': 60,      # Major urban roads\n",
        "    'trunk': 70,        # Major highways/expressways within urban area\n",
        "    'motorway': 90,     # High-speed expressways\n",
        "    'living_street': 10,# Very low speed\n",
        "    'service': 20,      # Service roads, alleys\n",
        "    'road': 30,         # General unclassified roads\n",
        "    'primary_link': 60, # Links to primary roads\n",
        "    'secondary_link': 50,# Links to secondary roads\n",
        "    'tertiary_link': 40, # Links to tertiary roads\n",
        "    'trunk_link': 70,   # Links to trunk roads\n",
        "    'motorway_link': 90 # Links to motorways\n",
        "}\n",
        "\n",
        "print(\"Estimated speeds (km/h) by road type\")\n",
        "for highway_type, speed in speed_kmph.items():\n",
        "    print(f\"  {highway_type}: {speed}\")"
      ],
      "execution_count": 73,
      "outputs": [
        {
          "output_type": "stream",
          "name": "stdout",
          "text": [
            "Estimated speeds (km/h) by road type\n",
            "  residential: 30\n",
            "  unclassified: 30\n",
            "  tertiary: 40\n",
            "  secondary: 50\n",
            "  primary: 60\n",
            "  trunk: 70\n",
            "  motorway: 90\n",
            "  living_street: 10\n",
            "  service: 20\n",
            "  road: 30\n",
            "  primary_link: 60\n",
            "  secondary_link: 50\n",
            "  tertiary_link: 40\n",
            "  trunk_link: 70\n",
            "  motorway_link: 90\n"
          ]
        }
      ]
    },
    {
      "cell_type": "code",
      "source": [
        "# ขั้นตอนที่ 11 คำนวน travel time"
      ],
      "metadata": {
        "id": "EAsLJlLGhMLx"
      },
      "execution_count": null,
      "outputs": []
    },
    {
      "cell_type": "code",
      "metadata": {
        "id": "cd708e74",
        "colab": {
          "base_uri": "https://localhost:8080/"
        },
        "outputId": "ed985ee0-8133-4755-e58a-896a5d0ceb38"
      },
      "source": [
        "# Convert speed from km/h to meters per second\n",
        "speed_mps = {highway_type: speed * 1000 / 3600 for highway_type, speed in speed_kmph.items()}\n",
        "\n",
        "# Add 'speed_mps' attribute to edges based on 'highway' type\n",
        "G = ox.add_edge_speeds(G, speed_mps)\n",
        "\n",
        "# Calculate and add 'travel_time' attribute to edges\n",
        "G = ox.add_edge_travel_times(G)"
      ],
      "execution_count": 74,
      "outputs": [
        {
          "output_type": "stream",
          "name": "stderr",
          "text": [
            "/usr/local/lib/python3.11/dist-packages/osmnx/speed.py:110: FutureWarning: Downcasting object dtype arrays on .fillna, .ffill, .bfill is deprecated and will change in a future version. Call result.infer_objects(copy=False) instead. To opt-in to the future behavior, set `pd.set_option('future.no_silent_downcasting', True)`\n",
            "  edges[[\"highway\", \"speed_kph\"]].set_index(\"highway\").iloc[:, 0].fillna(hwy_speed_avg)\n"
          ]
        }
      ]
    },
    {
      "cell_type": "code",
      "source": [
        "# ขั้นตอนที่ 12 shortest path จาก time"
      ],
      "metadata": {
        "id": "4jdaVpK3hTur"
      },
      "execution_count": null,
      "outputs": []
    },
    {
      "cell_type": "code",
      "metadata": {
        "id": "e6d62d5e",
        "colab": {
          "base_uri": "https://localhost:8080/"
        },
        "outputId": "553d30b4-31ca-43ef-98cb-8e14ea5830bf"
      },
      "source": [
        "# ใช้ A* algorithm หาเส้นทางที่ใช้เวลาน้อยที่สุด\n",
        "shortest_route_time = nx.astar_path(G, orig_node, dest_node, weight='travel_time')\n",
        "\n",
        "# คำนวณเวลาการเดินทางรวม\n",
        "route_time = nx.path_weight(G, shortest_route_time, weight='travel_time')\n",
        "\n",
        "print(f\"⏰ Estimated total travel time: {route_time:.2f} seconds ({route_time/60:.2f} minutes)\")\n",
        "print(f\"Number of intersections: {len(shortest_route_time)}\")"
      ],
      "execution_count": 75,
      "outputs": [
        {
          "output_type": "stream",
          "name": "stdout",
          "text": [
            "⏰ Estimated total travel time: 289.10 seconds (4.82 minutes)\n",
            "Number of intersections: 8\n"
          ]
        }
      ]
    },
    {
      "cell_type": "code",
      "source": [
        "# ตัวอย่างการกำหนดความเร็วให้แต่ละเส้นทาง"
      ],
      "metadata": {
        "id": "JeRHkqMGYPUC"
      },
      "execution_count": null,
      "outputs": []
    },
    {
      "cell_type": "code",
      "metadata": {
        "id": "cf9e62c6",
        "colab": {
          "base_uri": "https://localhost:8080/",
          "height": 206
        },
        "outputId": "44f409c2-c775-488a-eaf3-c02fe7546a35"
      },
      "source": [
        "# u, v, key คือตัวระบุเส้นถนน และ 'speed_mps_actual' คือความเร็วจริงในหน่วย เมตรต่อวินาที\n",
        "data = {\n",
        "    'u': [85753778, 105838415, 105838415, 9444510080, 2197616325],\n",
        "    'v': [1893839406, 1817818994, 8107214608, 2197616325, 9444510080],\n",
        "    'key': [0, 0, 0, 0, 0],\n",
        "    'speed_mps_actual': [15.2, 12.5, 5.0, 10.0, 9.5]\n",
        "}\n",
        "\n",
        "df_speeds_actual = pd.DataFrame(data)\n",
        "\n",
        "display(df_speeds_actual)"
      ],
      "execution_count": 76,
      "outputs": [
        {
          "output_type": "display_data",
          "data": {
            "text/plain": [
              "            u           v  key  speed_mps_actual\n",
              "0    85753778  1893839406    0              15.2\n",
              "1   105838415  1817818994    0              12.5\n",
              "2   105838415  8107214608    0               5.0\n",
              "3  9444510080  2197616325    0              10.0\n",
              "4  2197616325  9444510080    0               9.5"
            ],
            "text/html": [
              "\n",
              "  <div id=\"df-893d2775-b8b6-4a63-9448-f85840e499f3\" class=\"colab-df-container\">\n",
              "    <div>\n",
              "<style scoped>\n",
              "    .dataframe tbody tr th:only-of-type {\n",
              "        vertical-align: middle;\n",
              "    }\n",
              "\n",
              "    .dataframe tbody tr th {\n",
              "        vertical-align: top;\n",
              "    }\n",
              "\n",
              "    .dataframe thead th {\n",
              "        text-align: right;\n",
              "    }\n",
              "</style>\n",
              "<table border=\"1\" class=\"dataframe\">\n",
              "  <thead>\n",
              "    <tr style=\"text-align: right;\">\n",
              "      <th></th>\n",
              "      <th>u</th>\n",
              "      <th>v</th>\n",
              "      <th>key</th>\n",
              "      <th>speed_mps_actual</th>\n",
              "    </tr>\n",
              "  </thead>\n",
              "  <tbody>\n",
              "    <tr>\n",
              "      <th>0</th>\n",
              "      <td>85753778</td>\n",
              "      <td>1893839406</td>\n",
              "      <td>0</td>\n",
              "      <td>15.2</td>\n",
              "    </tr>\n",
              "    <tr>\n",
              "      <th>1</th>\n",
              "      <td>105838415</td>\n",
              "      <td>1817818994</td>\n",
              "      <td>0</td>\n",
              "      <td>12.5</td>\n",
              "    </tr>\n",
              "    <tr>\n",
              "      <th>2</th>\n",
              "      <td>105838415</td>\n",
              "      <td>8107214608</td>\n",
              "      <td>0</td>\n",
              "      <td>5.0</td>\n",
              "    </tr>\n",
              "    <tr>\n",
              "      <th>3</th>\n",
              "      <td>9444510080</td>\n",
              "      <td>2197616325</td>\n",
              "      <td>0</td>\n",
              "      <td>10.0</td>\n",
              "    </tr>\n",
              "    <tr>\n",
              "      <th>4</th>\n",
              "      <td>2197616325</td>\n",
              "      <td>9444510080</td>\n",
              "      <td>0</td>\n",
              "      <td>9.5</td>\n",
              "    </tr>\n",
              "  </tbody>\n",
              "</table>\n",
              "</div>\n",
              "    <div class=\"colab-df-buttons\">\n",
              "\n",
              "  <div class=\"colab-df-container\">\n",
              "    <button class=\"colab-df-convert\" onclick=\"convertToInteractive('df-893d2775-b8b6-4a63-9448-f85840e499f3')\"\n",
              "            title=\"Convert this dataframe to an interactive table.\"\n",
              "            style=\"display:none;\">\n",
              "\n",
              "  <svg xmlns=\"http://www.w3.org/2000/svg\" height=\"24px\" viewBox=\"0 -960 960 960\">\n",
              "    <path d=\"M120-120v-720h720v720H120Zm60-500h600v-160H180v160Zm220 220h160v-160H400v160Zm0 220h160v-160H400v160ZM180-400h160v-160H180v160Zm440 0h160v-160H620v160ZM180-180h160v-160H180v160Zm440 0h160v-160H620v160Z\"/>\n",
              "  </svg>\n",
              "    </button>\n",
              "\n",
              "  <style>\n",
              "    .colab-df-container {\n",
              "      display:flex;\n",
              "      gap: 12px;\n",
              "    }\n",
              "\n",
              "    .colab-df-convert {\n",
              "      background-color: #E8F0FE;\n",
              "      border: none;\n",
              "      border-radius: 50%;\n",
              "      cursor: pointer;\n",
              "      display: none;\n",
              "      fill: #1967D2;\n",
              "      height: 32px;\n",
              "      padding: 0 0 0 0;\n",
              "      width: 32px;\n",
              "    }\n",
              "\n",
              "    .colab-df-convert:hover {\n",
              "      background-color: #E2EBFA;\n",
              "      box-shadow: 0px 1px 2px rgba(60, 64, 67, 0.3), 0px 1px 3px 1px rgba(60, 64, 67, 0.15);\n",
              "      fill: #174EA6;\n",
              "    }\n",
              "\n",
              "    .colab-df-buttons div {\n",
              "      margin-bottom: 4px;\n",
              "    }\n",
              "\n",
              "    [theme=dark] .colab-df-convert {\n",
              "      background-color: #3B4455;\n",
              "      fill: #D2E3FC;\n",
              "    }\n",
              "\n",
              "    [theme=dark] .colab-df-convert:hover {\n",
              "      background-color: #434B5C;\n",
              "      box-shadow: 0px 1px 3px 1px rgba(0, 0, 0, 0.15);\n",
              "      filter: drop-shadow(0px 1px 2px rgba(0, 0, 0, 0.3));\n",
              "      fill: #FFFFFF;\n",
              "    }\n",
              "  </style>\n",
              "\n",
              "    <script>\n",
              "      const buttonEl =\n",
              "        document.querySelector('#df-893d2775-b8b6-4a63-9448-f85840e499f3 button.colab-df-convert');\n",
              "      buttonEl.style.display =\n",
              "        google.colab.kernel.accessAllowed ? 'block' : 'none';\n",
              "\n",
              "      async function convertToInteractive(key) {\n",
              "        const element = document.querySelector('#df-893d2775-b8b6-4a63-9448-f85840e499f3');\n",
              "        const dataTable =\n",
              "          await google.colab.kernel.invokeFunction('convertToInteractive',\n",
              "                                                    [key], {});\n",
              "        if (!dataTable) return;\n",
              "\n",
              "        const docLinkHtml = 'Like what you see? Visit the ' +\n",
              "          '<a target=\"_blank\" href=https://colab.research.google.com/notebooks/data_table.ipynb>data table notebook</a>'\n",
              "          + ' to learn more about interactive tables.';\n",
              "        element.innerHTML = '';\n",
              "        dataTable['output_type'] = 'display_data';\n",
              "        await google.colab.output.renderOutput(dataTable, element);\n",
              "        const docLink = document.createElement('div');\n",
              "        docLink.innerHTML = docLinkHtml;\n",
              "        element.appendChild(docLink);\n",
              "      }\n",
              "    </script>\n",
              "  </div>\n",
              "\n",
              "\n",
              "    <div id=\"df-0eb1650c-c730-41d5-92bd-35e616c7ee52\">\n",
              "      <button class=\"colab-df-quickchart\" onclick=\"quickchart('df-0eb1650c-c730-41d5-92bd-35e616c7ee52')\"\n",
              "                title=\"Suggest charts\"\n",
              "                style=\"display:none;\">\n",
              "\n",
              "<svg xmlns=\"http://www.w3.org/2000/svg\" height=\"24px\"viewBox=\"0 0 24 24\"\n",
              "     width=\"24px\">\n",
              "    <g>\n",
              "        <path d=\"M19 3H5c-1.1 0-2 .9-2 2v14c0 1.1.9 2 2 2h14c1.1 0 2-.9 2-2V5c0-1.1-.9-2-2-2zM9 17H7v-7h2v7zm4 0h-2V7h2v10zm4 0h-2v-4h2v4z\"/>\n",
              "    </g>\n",
              "</svg>\n",
              "      </button>\n",
              "\n",
              "<style>\n",
              "  .colab-df-quickchart {\n",
              "      --bg-color: #E8F0FE;\n",
              "      --fill-color: #1967D2;\n",
              "      --hover-bg-color: #E2EBFA;\n",
              "      --hover-fill-color: #174EA6;\n",
              "      --disabled-fill-color: #AAA;\n",
              "      --disabled-bg-color: #DDD;\n",
              "  }\n",
              "\n",
              "  [theme=dark] .colab-df-quickchart {\n",
              "      --bg-color: #3B4455;\n",
              "      --fill-color: #D2E3FC;\n",
              "      --hover-bg-color: #434B5C;\n",
              "      --hover-fill-color: #FFFFFF;\n",
              "      --disabled-bg-color: #3B4455;\n",
              "      --disabled-fill-color: #666;\n",
              "  }\n",
              "\n",
              "  .colab-df-quickchart {\n",
              "    background-color: var(--bg-color);\n",
              "    border: none;\n",
              "    border-radius: 50%;\n",
              "    cursor: pointer;\n",
              "    display: none;\n",
              "    fill: var(--fill-color);\n",
              "    height: 32px;\n",
              "    padding: 0;\n",
              "    width: 32px;\n",
              "  }\n",
              "\n",
              "  .colab-df-quickchart:hover {\n",
              "    background-color: var(--hover-bg-color);\n",
              "    box-shadow: 0 1px 2px rgba(60, 64, 67, 0.3), 0 1px 3px 1px rgba(60, 64, 67, 0.15);\n",
              "    fill: var(--button-hover-fill-color);\n",
              "  }\n",
              "\n",
              "  .colab-df-quickchart-complete:disabled,\n",
              "  .colab-df-quickchart-complete:disabled:hover {\n",
              "    background-color: var(--disabled-bg-color);\n",
              "    fill: var(--disabled-fill-color);\n",
              "    box-shadow: none;\n",
              "  }\n",
              "\n",
              "  .colab-df-spinner {\n",
              "    border: 2px solid var(--fill-color);\n",
              "    border-color: transparent;\n",
              "    border-bottom-color: var(--fill-color);\n",
              "    animation:\n",
              "      spin 1s steps(1) infinite;\n",
              "  }\n",
              "\n",
              "  @keyframes spin {\n",
              "    0% {\n",
              "      border-color: transparent;\n",
              "      border-bottom-color: var(--fill-color);\n",
              "      border-left-color: var(--fill-color);\n",
              "    }\n",
              "    20% {\n",
              "      border-color: transparent;\n",
              "      border-left-color: var(--fill-color);\n",
              "      border-top-color: var(--fill-color);\n",
              "    }\n",
              "    30% {\n",
              "      border-color: transparent;\n",
              "      border-left-color: var(--fill-color);\n",
              "      border-top-color: var(--fill-color);\n",
              "      border-right-color: var(--fill-color);\n",
              "    }\n",
              "    40% {\n",
              "      border-color: transparent;\n",
              "      border-right-color: var(--fill-color);\n",
              "      border-top-color: var(--fill-color);\n",
              "    }\n",
              "    60% {\n",
              "      border-color: transparent;\n",
              "      border-right-color: var(--fill-color);\n",
              "    }\n",
              "    80% {\n",
              "      border-color: transparent;\n",
              "      border-right-color: var(--fill-color);\n",
              "      border-bottom-color: var(--fill-color);\n",
              "    }\n",
              "    90% {\n",
              "      border-color: transparent;\n",
              "      border-bottom-color: var(--fill-color);\n",
              "    }\n",
              "  }\n",
              "</style>\n",
              "\n",
              "      <script>\n",
              "        async function quickchart(key) {\n",
              "          const quickchartButtonEl =\n",
              "            document.querySelector('#' + key + ' button');\n",
              "          quickchartButtonEl.disabled = true;  // To prevent multiple clicks.\n",
              "          quickchartButtonEl.classList.add('colab-df-spinner');\n",
              "          try {\n",
              "            const charts = await google.colab.kernel.invokeFunction(\n",
              "                'suggestCharts', [key], {});\n",
              "          } catch (error) {\n",
              "            console.error('Error during call to suggestCharts:', error);\n",
              "          }\n",
              "          quickchartButtonEl.classList.remove('colab-df-spinner');\n",
              "          quickchartButtonEl.classList.add('colab-df-quickchart-complete');\n",
              "        }\n",
              "        (() => {\n",
              "          let quickchartButtonEl =\n",
              "            document.querySelector('#df-0eb1650c-c730-41d5-92bd-35e616c7ee52 button');\n",
              "          quickchartButtonEl.style.display =\n",
              "            google.colab.kernel.accessAllowed ? 'block' : 'none';\n",
              "        })();\n",
              "      </script>\n",
              "    </div>\n",
              "\n",
              "  <div id=\"id_fd3586d4-c993-491c-bb36-bc37d50c81f1\">\n",
              "    <style>\n",
              "      .colab-df-generate {\n",
              "        background-color: #E8F0FE;\n",
              "        border: none;\n",
              "        border-radius: 50%;\n",
              "        cursor: pointer;\n",
              "        display: none;\n",
              "        fill: #1967D2;\n",
              "        height: 32px;\n",
              "        padding: 0 0 0 0;\n",
              "        width: 32px;\n",
              "      }\n",
              "\n",
              "      .colab-df-generate:hover {\n",
              "        background-color: #E2EBFA;\n",
              "        box-shadow: 0px 1px 2px rgba(60, 64, 67, 0.3), 0px 1px 3px 1px rgba(60, 64, 67, 0.15);\n",
              "        fill: #174EA6;\n",
              "      }\n",
              "\n",
              "      [theme=dark] .colab-df-generate {\n",
              "        background-color: #3B4455;\n",
              "        fill: #D2E3FC;\n",
              "      }\n",
              "\n",
              "      [theme=dark] .colab-df-generate:hover {\n",
              "        background-color: #434B5C;\n",
              "        box-shadow: 0px 1px 3px 1px rgba(0, 0, 0, 0.15);\n",
              "        filter: drop-shadow(0px 1px 2px rgba(0, 0, 0, 0.3));\n",
              "        fill: #FFFFFF;\n",
              "      }\n",
              "    </style>\n",
              "    <button class=\"colab-df-generate\" onclick=\"generateWithVariable('df_speeds_actual')\"\n",
              "            title=\"Generate code using this dataframe.\"\n",
              "            style=\"display:none;\">\n",
              "\n",
              "  <svg xmlns=\"http://www.w3.org/2000/svg\" height=\"24px\"viewBox=\"0 0 24 24\"\n",
              "       width=\"24px\">\n",
              "    <path d=\"M7,19H8.4L18.45,9,17,7.55,7,17.6ZM5,21V16.75L18.45,3.32a2,2,0,0,1,2.83,0l1.4,1.43a1.91,1.91,0,0,1,.58,1.4,1.91,1.91,0,0,1-.58,1.4L9.25,21ZM18.45,9,17,7.55Zm-12,3A5.31,5.31,0,0,0,4.9,8.1,5.31,5.31,0,0,0,1,6.5,5.31,5.31,0,0,0,4.9,4.9,5.31,5.31,0,0,0,6.5,1,5.31,5.31,0,0,0,8.1,4.9,5.31,5.31,0,0,0,12,6.5,5.46,5.46,0,0,0,6.5,12Z\"/>\n",
              "  </svg>\n",
              "    </button>\n",
              "    <script>\n",
              "      (() => {\n",
              "      const buttonEl =\n",
              "        document.querySelector('#id_fd3586d4-c993-491c-bb36-bc37d50c81f1 button.colab-df-generate');\n",
              "      buttonEl.style.display =\n",
              "        google.colab.kernel.accessAllowed ? 'block' : 'none';\n",
              "\n",
              "      buttonEl.onclick = () => {\n",
              "        google.colab.notebook.generateWithVariable('df_speeds_actual');\n",
              "      }\n",
              "      })();\n",
              "    </script>\n",
              "  </div>\n",
              "\n",
              "    </div>\n",
              "  </div>\n"
            ],
            "application/vnd.google.colaboratory.intrinsic+json": {
              "type": "dataframe",
              "variable_name": "df_speeds_actual",
              "summary": "{\n  \"name\": \"df_speeds_actual\",\n  \"rows\": 5,\n  \"fields\": [\n    {\n      \"column\": \"u\",\n      \"properties\": {\n        \"dtype\": \"number\",\n        \"std\": 4048068708,\n        \"min\": 85753778,\n        \"max\": 9444510080,\n        \"num_unique_values\": 4,\n        \"samples\": [\n          105838415,\n          2197616325,\n          85753778\n        ],\n        \"semantic_type\": \"\",\n        \"description\": \"\"\n      }\n    },\n    {\n      \"column\": \"v\",\n      \"properties\": {\n        \"dtype\": \"number\",\n        \"std\": 3760405954,\n        \"min\": 1817818994,\n        \"max\": 9444510080,\n        \"num_unique_values\": 5,\n        \"samples\": [\n          1817818994,\n          9444510080,\n          8107214608\n        ],\n        \"semantic_type\": \"\",\n        \"description\": \"\"\n      }\n    },\n    {\n      \"column\": \"key\",\n      \"properties\": {\n        \"dtype\": \"number\",\n        \"std\": 0,\n        \"min\": 0,\n        \"max\": 0,\n        \"num_unique_values\": 1,\n        \"samples\": [\n          0\n        ],\n        \"semantic_type\": \"\",\n        \"description\": \"\"\n      }\n    },\n    {\n      \"column\": \"speed_mps_actual\",\n      \"properties\": {\n        \"dtype\": \"number\",\n        \"std\": 3.793810749101752,\n        \"min\": 5.0,\n        \"max\": 15.2,\n        \"num_unique_values\": 5,\n        \"samples\": [\n          12.5\n        ],\n        \"semantic_type\": \"\",\n        \"description\": \"\"\n      }\n    }\n  ]\n}"
            }
          },
          "metadata": {}
        }
      ]
    },
    {
      "cell_type": "markdown",
      "source": [],
      "metadata": {
        "id": "LEEBOA2_eWez"
      }
    },
    {
      "cell_type": "code",
      "source": [],
      "metadata": {
        "id": "6hMm7paohgkK"
      },
      "execution_count": null,
      "outputs": []
    }
  ]
}